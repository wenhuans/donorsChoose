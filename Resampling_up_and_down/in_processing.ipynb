{
  "nbformat": 4,
  "nbformat_minor": 0,
  "metadata": {
    "colab": {
      "name": "in processing.ipynb",
      "provenance": [],
      "collapsed_sections": []
    },
    "kernelspec": {
      "display_name": "Python 3",
      "language": "python",
      "name": "python3"
    },
    "language_info": {
      "codemirror_mode": {
        "name": "ipython",
        "version": 3
      },
      "file_extension": ".py",
      "mimetype": "text/x-python",
      "name": "python",
      "nbconvert_exporter": "python",
      "pygments_lexer": "ipython3",
      "version": "3.8.3"
    }
  },
  "cells": [
    {
      "cell_type": "code",
      "metadata": {
        "id": "GxjPpVfDDl6F",
        "outputId": "019be05c-f111-421b-c6bc-616a3606f7d9"
      },
      "source": [
        "!pip install seaborn"
      ],
      "execution_count": null,
      "outputs": [
        {
          "name": "stdout",
          "output_type": "stream",
          "text": [
            "Requirement already satisfied: seaborn in c:\\users\\79368\\anaconda3\\lib\\site-packages (0.10.1)\n",
            "Requirement already satisfied: pandas>=0.22.0 in c:\\users\\79368\\anaconda3\\lib\\site-packages (from seaborn) (1.0.5)\n",
            "Requirement already satisfied: numpy>=1.13.3 in c:\\users\\79368\\anaconda3\\lib\\site-packages (from seaborn) (1.18.5)\n",
            "Requirement already satisfied: scipy>=1.0.1 in c:\\users\\79368\\anaconda3\\lib\\site-packages (from seaborn) (1.5.0)\n",
            "Requirement already satisfied: matplotlib>=2.1.2 in c:\\users\\79368\\anaconda3\\lib\\site-packages (from seaborn) (3.2.2)\n",
            "Requirement already satisfied: python-dateutil>=2.6.1 in c:\\users\\79368\\anaconda3\\lib\\site-packages (from pandas>=0.22.0->seaborn) (2.8.1)\n",
            "Requirement already satisfied: pytz>=2017.2 in c:\\users\\79368\\anaconda3\\lib\\site-packages (from pandas>=0.22.0->seaborn) (2020.1)\n",
            "Requirement already satisfied: cycler>=0.10 in c:\\users\\79368\\anaconda3\\lib\\site-packages (from matplotlib>=2.1.2->seaborn) (0.10.0)\n",
            "Requirement already satisfied: kiwisolver>=1.0.1 in c:\\users\\79368\\anaconda3\\lib\\site-packages (from matplotlib>=2.1.2->seaborn) (1.2.0)\n",
            "Requirement already satisfied: pyparsing!=2.0.4,!=2.1.2,!=2.1.6,>=2.0.1 in c:\\users\\79368\\anaconda3\\lib\\site-packages (from matplotlib>=2.1.2->seaborn) (2.4.7)\n",
            "Requirement already satisfied: six>=1.5 in c:\\users\\79368\\anaconda3\\lib\\site-packages (from python-dateutil>=2.6.1->pandas>=0.22.0->seaborn) (1.15.0)\n"
          ]
        }
      ]
    },
    {
      "cell_type": "code",
      "metadata": {
        "id": "gjvrOl4x_EH8"
      },
      "source": [
        "import seaborn"
      ],
      "execution_count": null,
      "outputs": []
    },
    {
      "cell_type": "code",
      "metadata": {
        "id": "ksdTALLPC3DP"
      },
      "source": [
        "# Import required libraries\n",
        "import pandas as pd\n",
        "import numpy as np\n",
        "import matplotlib.pyplot as plt\n",
        "import matplotlib.style as style\n",
        "import seaborn as sns\n",
        "%matplotlib inline\n",
        "color = sns.color_palette()\n",
        "from pandas.plotting import table\n",
        "import scipy\n",
        "from scipy.stats import pearsonr, spearmanr\n",
        "# from wordcloud import WordCloud, STOPWORDS\n",
        "import datetime as dt\n",
        "# import plotly\n",
        "# import cufflinks as cf\n",
        "# import plotly.offline\n",
        "# cf.go_offline()\n",
        "# cf.set_config_file(offline=False, world_readable=True)\n",
        "# Load data\n"
      ],
      "execution_count": null,
      "outputs": []
    },
    {
      "cell_type": "markdown",
      "metadata": {
        "id": "_6e6XQKzRxv4"
      },
      "source": [
        "**cohort correction**"
      ]
    },
    {
      "cell_type": "code",
      "metadata": {
        "colab": {
          "base_uri": "https://localhost:8080/",
          "height": 464
        },
        "id": "SwGqLH70R3X5",
        "outputId": "7a9b1adb-07d5-42f1-b9a9-4b5ca44f2080"
      },
      "source": [
        "master = pd.read_csv('../processed_mastersheet1025.zip')\n",
        "master = master.drop(master[master.percent_fulfilled >= 1.0].index)\n",
        "master.head(10)"
      ],
      "execution_count": null,
      "outputs": [
        {
          "data": {
            "text/html": [
              "<div>\n",
              "<style scoped>\n",
              "    .dataframe tbody tr th:only-of-type {\n",
              "        vertical-align: middle;\n",
              "    }\n",
              "\n",
              "    .dataframe tbody tr th {\n",
              "        vertical-align: top;\n",
              "    }\n",
              "\n",
              "    .dataframe thead th {\n",
              "        text-align: right;\n",
              "    }\n",
              "</style>\n",
              "<table border=\"1\" class=\"dataframe\">\n",
              "  <thead>\n",
              "    <tr style=\"text-align: right;\">\n",
              "      <th></th>\n",
              "      <th>Unnamed: 0</th>\n",
              "      <th>projectid</th>\n",
              "      <th>teacher_acctid</th>\n",
              "      <th>schoolid</th>\n",
              "      <th>school_state</th>\n",
              "      <th>school_metro</th>\n",
              "      <th>school_charter</th>\n",
              "      <th>teacher_prefix</th>\n",
              "      <th>teacher_teach_for_america</th>\n",
              "      <th>primary_focus_subject</th>\n",
              "      <th>...</th>\n",
              "      <th>num_donors</th>\n",
              "      <th>num_teachers</th>\n",
              "      <th>total_donation_amount</th>\n",
              "      <th>avg_msg_num_words</th>\n",
              "      <th>fully_funded</th>\n",
              "      <th>day_of_week_posted</th>\n",
              "      <th>percent_fulfilled</th>\n",
              "      <th>amount_remaining</th>\n",
              "      <th>school_pct_funded</th>\n",
              "      <th>teacher_pct_funded</th>\n",
              "    </tr>\n",
              "  </thead>\n",
              "  <tbody>\n",
              "    <tr>\n",
              "      <th>0</th>\n",
              "      <td>0</td>\n",
              "      <td>62526d85d2a1818432d03d600969e99c</td>\n",
              "      <td>ebc7c90b6c92a069432e0714b8d93dfd</td>\n",
              "      <td>5aca9711ff0e4b37db48701f46f73036</td>\n",
              "      <td>IL</td>\n",
              "      <td>suburban</td>\n",
              "      <td>f</td>\n",
              "      <td>Mrs.</td>\n",
              "      <td>f</td>\n",
              "      <td>Special Needs</td>\n",
              "      <td>...</td>\n",
              "      <td>1.0</td>\n",
              "      <td>0.0</td>\n",
              "      <td>42.50</td>\n",
              "      <td>30.0</td>\n",
              "      <td>t</td>\n",
              "      <td>1</td>\n",
              "      <td>0.095643</td>\n",
              "      <td>401.86</td>\n",
              "      <td>0.500000</td>\n",
              "      <td>0.0</td>\n",
              "    </tr>\n",
              "    <tr>\n",
              "      <th>1</th>\n",
              "      <td>1</td>\n",
              "      <td>33d59ac771b80222ad63ef0f4ac47ade</td>\n",
              "      <td>de83b4c1f6428a15032c207c1d5e572a</td>\n",
              "      <td>d91a805b213bf74ae77b94e0de2b73ad</td>\n",
              "      <td>ID</td>\n",
              "      <td>urban</td>\n",
              "      <td>f</td>\n",
              "      <td>Mrs.</td>\n",
              "      <td>f</td>\n",
              "      <td>Mathematics</td>\n",
              "      <td>...</td>\n",
              "      <td>0.0</td>\n",
              "      <td>0.0</td>\n",
              "      <td>0.00</td>\n",
              "      <td>0.0</td>\n",
              "      <td>f</td>\n",
              "      <td>1</td>\n",
              "      <td>0.000000</td>\n",
              "      <td>233.24</td>\n",
              "      <td>0.500000</td>\n",
              "      <td>0.5</td>\n",
              "    </tr>\n",
              "    <tr>\n",
              "      <th>2</th>\n",
              "      <td>2</td>\n",
              "      <td>1a3aaeffc56dd2a421e37d8298024c0a</td>\n",
              "      <td>f4c9ed095b85458dcf858e25f203af00</td>\n",
              "      <td>9310d3eb447a4e46bc5fc31ed007ceac</td>\n",
              "      <td>NH</td>\n",
              "      <td>suburban</td>\n",
              "      <td>f</td>\n",
              "      <td>Mrs.</td>\n",
              "      <td>f</td>\n",
              "      <td>Environmental Science</td>\n",
              "      <td>...</td>\n",
              "      <td>0.0</td>\n",
              "      <td>0.0</td>\n",
              "      <td>0.00</td>\n",
              "      <td>0.0</td>\n",
              "      <td>f</td>\n",
              "      <td>1</td>\n",
              "      <td>0.000000</td>\n",
              "      <td>285.09</td>\n",
              "      <td>0.500000</td>\n",
              "      <td>0.5</td>\n",
              "    </tr>\n",
              "    <tr>\n",
              "      <th>3</th>\n",
              "      <td>3</td>\n",
              "      <td>33aa19ee4da4c5adf47d0dfb84fab5ef</td>\n",
              "      <td>17768031eb40de8d4497dbb54df48742</td>\n",
              "      <td>9ac70da58322783f82152eecc140a812</td>\n",
              "      <td>VA</td>\n",
              "      <td>urban</td>\n",
              "      <td>f</td>\n",
              "      <td>Ms.</td>\n",
              "      <td>f</td>\n",
              "      <td>Literacy</td>\n",
              "      <td>...</td>\n",
              "      <td>1.0</td>\n",
              "      <td>0.0</td>\n",
              "      <td>42.50</td>\n",
              "      <td>0.0</td>\n",
              "      <td>f</td>\n",
              "      <td>1</td>\n",
              "      <td>0.182450</td>\n",
              "      <td>190.44</td>\n",
              "      <td>0.541667</td>\n",
              "      <td>0.6</td>\n",
              "    </tr>\n",
              "    <tr>\n",
              "      <th>4</th>\n",
              "      <td>4</td>\n",
              "      <td>e31c0ea8b68f404699dfb0d39e9bc99b</td>\n",
              "      <td>0f1bc5b4700fd33383be104442660178</td>\n",
              "      <td>cb9f688cf59e3ee22a087d616ca8f5d7</td>\n",
              "      <td>IL</td>\n",
              "      <td>urban</td>\n",
              "      <td>f</td>\n",
              "      <td>Mr.</td>\n",
              "      <td>f</td>\n",
              "      <td>Environmental Science</td>\n",
              "      <td>...</td>\n",
              "      <td>0.0</td>\n",
              "      <td>0.0</td>\n",
              "      <td>0.00</td>\n",
              "      <td>0.0</td>\n",
              "      <td>t</td>\n",
              "      <td>1</td>\n",
              "      <td>0.000000</td>\n",
              "      <td>513.41</td>\n",
              "      <td>0.000000</td>\n",
              "      <td>0.0</td>\n",
              "    </tr>\n",
              "    <tr>\n",
              "      <th>5</th>\n",
              "      <td>5</td>\n",
              "      <td>c685c844476d7ed75bf87699eeafd682</td>\n",
              "      <td>4b19500fb087a635c98061505f1e6c6f</td>\n",
              "      <td>34c650f9f6d5c3e42b8e2169c280ecb7</td>\n",
              "      <td>SC</td>\n",
              "      <td>urban</td>\n",
              "      <td>f</td>\n",
              "      <td>Mrs.</td>\n",
              "      <td>f</td>\n",
              "      <td>Literature &amp; Writing</td>\n",
              "      <td>...</td>\n",
              "      <td>2.0</td>\n",
              "      <td>0.0</td>\n",
              "      <td>42.50</td>\n",
              "      <td>24.5</td>\n",
              "      <td>f</td>\n",
              "      <td>1</td>\n",
              "      <td>0.061763</td>\n",
              "      <td>645.61</td>\n",
              "      <td>0.000000</td>\n",
              "      <td>0.0</td>\n",
              "    </tr>\n",
              "    <tr>\n",
              "      <th>6</th>\n",
              "      <td>6</td>\n",
              "      <td>a4b234feb2b72921ed59850d5c873d62</td>\n",
              "      <td>620982375045fa11d872702f26ab98bb</td>\n",
              "      <td>da1985df161ba5c3842fc99579b6e4b1</td>\n",
              "      <td>KY</td>\n",
              "      <td>urban</td>\n",
              "      <td>f</td>\n",
              "      <td>Mrs.</td>\n",
              "      <td>f</td>\n",
              "      <td>Literature &amp; Writing</td>\n",
              "      <td>...</td>\n",
              "      <td>0.0</td>\n",
              "      <td>0.0</td>\n",
              "      <td>0.00</td>\n",
              "      <td>0.0</td>\n",
              "      <td>f</td>\n",
              "      <td>1</td>\n",
              "      <td>0.000000</td>\n",
              "      <td>935.16</td>\n",
              "      <td>0.625000</td>\n",
              "      <td>0.0</td>\n",
              "    </tr>\n",
              "    <tr>\n",
              "      <th>7</th>\n",
              "      <td>7</td>\n",
              "      <td>0ff5dec32bf793243a8b0b2c023a81f0</td>\n",
              "      <td>ec5b110df87bd511b508961676d08b6c</td>\n",
              "      <td>72e2b0cb2eecfdc37e67e0eaf10da07b</td>\n",
              "      <td>FL</td>\n",
              "      <td>rural</td>\n",
              "      <td>f</td>\n",
              "      <td>Ms.</td>\n",
              "      <td>f</td>\n",
              "      <td>Literacy</td>\n",
              "      <td>...</td>\n",
              "      <td>2.0</td>\n",
              "      <td>1.0</td>\n",
              "      <td>709.75</td>\n",
              "      <td>9.5</td>\n",
              "      <td>t</td>\n",
              "      <td>1</td>\n",
              "      <td>0.876971</td>\n",
              "      <td>99.57</td>\n",
              "      <td>0.000000</td>\n",
              "      <td>0.0</td>\n",
              "    </tr>\n",
              "    <tr>\n",
              "      <th>11</th>\n",
              "      <td>11</td>\n",
              "      <td>c83d0794e67ec95f680cbb058c4523ff</td>\n",
              "      <td>535ab721f66316cf26a1d5ce1d9184f5</td>\n",
              "      <td>9f37b7e58dae8805882cbae215bb5e2a</td>\n",
              "      <td>FL</td>\n",
              "      <td>suburban</td>\n",
              "      <td>f</td>\n",
              "      <td>Mrs.</td>\n",
              "      <td>f</td>\n",
              "      <td>Applied Sciences</td>\n",
              "      <td>...</td>\n",
              "      <td>0.0</td>\n",
              "      <td>0.0</td>\n",
              "      <td>0.00</td>\n",
              "      <td>0.0</td>\n",
              "      <td>f</td>\n",
              "      <td>1</td>\n",
              "      <td>0.000000</td>\n",
              "      <td>269.90</td>\n",
              "      <td>0.000000</td>\n",
              "      <td>0.0</td>\n",
              "    </tr>\n",
              "    <tr>\n",
              "      <th>12</th>\n",
              "      <td>12</td>\n",
              "      <td>3b6bddd1df0e310066d81c2b89771b5c</td>\n",
              "      <td>60a251a9fe882561405e9f6e135afb75</td>\n",
              "      <td>cf7b5a7b866094184208f0f4bc282e6a</td>\n",
              "      <td>NM</td>\n",
              "      <td>urban</td>\n",
              "      <td>f</td>\n",
              "      <td>Mrs.</td>\n",
              "      <td>f</td>\n",
              "      <td>Civics &amp; Government</td>\n",
              "      <td>...</td>\n",
              "      <td>0.0</td>\n",
              "      <td>0.0</td>\n",
              "      <td>0.00</td>\n",
              "      <td>0.0</td>\n",
              "      <td>t</td>\n",
              "      <td>1</td>\n",
              "      <td>0.000000</td>\n",
              "      <td>519.03</td>\n",
              "      <td>0.000000</td>\n",
              "      <td>0.0</td>\n",
              "    </tr>\n",
              "  </tbody>\n",
              "</table>\n",
              "<p>10 rows × 30 columns</p>\n",
              "</div>"
            ],
            "text/plain": [
              "    Unnamed: 0                         projectid  \\\n",
              "0            0  62526d85d2a1818432d03d600969e99c   \n",
              "1            1  33d59ac771b80222ad63ef0f4ac47ade   \n",
              "2            2  1a3aaeffc56dd2a421e37d8298024c0a   \n",
              "3            3  33aa19ee4da4c5adf47d0dfb84fab5ef   \n",
              "4            4  e31c0ea8b68f404699dfb0d39e9bc99b   \n",
              "5            5  c685c844476d7ed75bf87699eeafd682   \n",
              "6            6  a4b234feb2b72921ed59850d5c873d62   \n",
              "7            7  0ff5dec32bf793243a8b0b2c023a81f0   \n",
              "11          11  c83d0794e67ec95f680cbb058c4523ff   \n",
              "12          12  3b6bddd1df0e310066d81c2b89771b5c   \n",
              "\n",
              "                      teacher_acctid                          schoolid  \\\n",
              "0   ebc7c90b6c92a069432e0714b8d93dfd  5aca9711ff0e4b37db48701f46f73036   \n",
              "1   de83b4c1f6428a15032c207c1d5e572a  d91a805b213bf74ae77b94e0de2b73ad   \n",
              "2   f4c9ed095b85458dcf858e25f203af00  9310d3eb447a4e46bc5fc31ed007ceac   \n",
              "3   17768031eb40de8d4497dbb54df48742  9ac70da58322783f82152eecc140a812   \n",
              "4   0f1bc5b4700fd33383be104442660178  cb9f688cf59e3ee22a087d616ca8f5d7   \n",
              "5   4b19500fb087a635c98061505f1e6c6f  34c650f9f6d5c3e42b8e2169c280ecb7   \n",
              "6   620982375045fa11d872702f26ab98bb  da1985df161ba5c3842fc99579b6e4b1   \n",
              "7   ec5b110df87bd511b508961676d08b6c  72e2b0cb2eecfdc37e67e0eaf10da07b   \n",
              "11  535ab721f66316cf26a1d5ce1d9184f5  9f37b7e58dae8805882cbae215bb5e2a   \n",
              "12  60a251a9fe882561405e9f6e135afb75  cf7b5a7b866094184208f0f4bc282e6a   \n",
              "\n",
              "   school_state school_metro school_charter teacher_prefix  \\\n",
              "0            IL     suburban              f           Mrs.   \n",
              "1            ID        urban              f           Mrs.   \n",
              "2            NH     suburban              f           Mrs.   \n",
              "3            VA        urban              f            Ms.   \n",
              "4            IL        urban              f            Mr.   \n",
              "5            SC        urban              f           Mrs.   \n",
              "6            KY        urban              f           Mrs.   \n",
              "7            FL        rural              f            Ms.   \n",
              "11           FL     suburban              f           Mrs.   \n",
              "12           NM        urban              f           Mrs.   \n",
              "\n",
              "   teacher_teach_for_america  primary_focus_subject  ... num_donors  \\\n",
              "0                          f          Special Needs  ...        1.0   \n",
              "1                          f            Mathematics  ...        0.0   \n",
              "2                          f  Environmental Science  ...        0.0   \n",
              "3                          f               Literacy  ...        1.0   \n",
              "4                          f  Environmental Science  ...        0.0   \n",
              "5                          f   Literature & Writing  ...        2.0   \n",
              "6                          f   Literature & Writing  ...        0.0   \n",
              "7                          f               Literacy  ...        2.0   \n",
              "11                         f       Applied Sciences  ...        0.0   \n",
              "12                         f    Civics & Government  ...        0.0   \n",
              "\n",
              "   num_teachers total_donation_amount  avg_msg_num_words  fully_funded  \\\n",
              "0           0.0                 42.50               30.0             t   \n",
              "1           0.0                  0.00                0.0             f   \n",
              "2           0.0                  0.00                0.0             f   \n",
              "3           0.0                 42.50                0.0             f   \n",
              "4           0.0                  0.00                0.0             t   \n",
              "5           0.0                 42.50               24.5             f   \n",
              "6           0.0                  0.00                0.0             f   \n",
              "7           1.0                709.75                9.5             t   \n",
              "11          0.0                  0.00                0.0             f   \n",
              "12          0.0                  0.00                0.0             t   \n",
              "\n",
              "   day_of_week_posted  percent_fulfilled  amount_remaining  school_pct_funded  \\\n",
              "0                   1           0.095643            401.86           0.500000   \n",
              "1                   1           0.000000            233.24           0.500000   \n",
              "2                   1           0.000000            285.09           0.500000   \n",
              "3                   1           0.182450            190.44           0.541667   \n",
              "4                   1           0.000000            513.41           0.000000   \n",
              "5                   1           0.061763            645.61           0.000000   \n",
              "6                   1           0.000000            935.16           0.625000   \n",
              "7                   1           0.876971             99.57           0.000000   \n",
              "11                  1           0.000000            269.90           0.000000   \n",
              "12                  1           0.000000            519.03           0.000000   \n",
              "\n",
              "    teacher_pct_funded  \n",
              "0                  0.0  \n",
              "1                  0.5  \n",
              "2                  0.5  \n",
              "3                  0.6  \n",
              "4                  0.0  \n",
              "5                  0.0  \n",
              "6                  0.0  \n",
              "7                  0.0  \n",
              "11                 0.0  \n",
              "12                 0.0  \n",
              "\n",
              "[10 rows x 30 columns]"
            ]
          },
          "execution_count": 3,
          "metadata": {},
          "output_type": "execute_result"
        }
      ]
    },
    {
      "cell_type": "code",
      "metadata": {
        "id": "IpTX0gz6hJDF"
      },
      "source": [
        "t_mask = (master['date_posted'] >= '2013-02-01') & (master['date_posted'] <= '2013-07-31')\n",
        "v_mask = (master['date_posted'] >= '2013-12-01') & (master['date_posted'] <= '2013-12-31')\n",
        "train, validation = master.loc[t_mask], master.loc[v_mask]"
      ],
      "execution_count": null,
      "outputs": []
    },
    {
      "cell_type": "code",
      "metadata": {
        "id": "j4TvPM8_UsuN"
      },
      "source": [
        "def run_baseline1(df, k):\n",
        "  if k == 0.0:\n",
        "      precision, recall = 1, 0\n",
        "  else:\n",
        "      df.sort_values(by=['total_price_excluding_optional_support'], ascending = False, inplace = True)\n",
        "      br = df['fully_funded'].value_counts().f / df.shape[0]\n",
        "      if k == 1.0:\n",
        "        precision, recall = br, 1\n",
        "      else:\n",
        "        sub = df.head(int(df.shape[0] * k)) # predict these as 1: not fully_funded, or 'f'\n",
        "        rem = df.tail(df.shape[0] - int(df.shape[0] * k))\n",
        "        tp = sub['fully_funded'].value_counts().f\n",
        "        fp = sub.shape[0] - tp\n",
        "        fn = rem['fully_funded'].value_counts().f\n",
        "        \n",
        "        precision = tp / (tp + fp)\n",
        "        recall = tp / (tp + fn)\n",
        "  if k == 0.1:\n",
        "    print('@k={:.2f}, precision={:.3f}, recall={:.3f}'.format(k, precision, recall))\n",
        "  return precision, recall"
      ],
      "execution_count": null,
      "outputs": []
    },
    {
      "cell_type": "code",
      "metadata": {
        "colab": {
          "base_uri": "https://localhost:8080/"
        },
        "id": "8cpePKzCbnRi",
        "outputId": "054da19a-bbbb-4fca-ae3e-63adb72d08cb"
      },
      "source": [
        "grid = np.arange(0,1.1,0.1)\n",
        "pre_log, rec_log = np.zeros_like(grid), np.zeros_like(grid)\n",
        "for i, k in enumerate(grid):\n",
        "  tmp = run_baseline1(validation, k)\n",
        "  pre_log[i], rec_log[i] = tmp[0], tmp[1]"
      ],
      "execution_count": null,
      "outputs": [
        {
          "name": "stdout",
          "output_type": "stream",
          "text": [
            "@k=0.10, precision=0.720, recall=0.174\n"
          ]
        },
        {
          "name": "stderr",
          "output_type": "stream",
          "text": [
            "<ipython-input-5-ef26f29704e3>:5: SettingWithCopyWarning: \n",
            "A value is trying to be set on a copy of a slice from a DataFrame\n",
            "\n",
            "See the caveats in the documentation: https://pandas.pydata.org/pandas-docs/stable/user_guide/indexing.html#returning-a-view-versus-a-copy\n",
            "  df.sort_values(by=['total_price_excluding_optional_support'], ascending = False, inplace = True)\n"
          ]
        }
      ]
    },
    {
      "cell_type": "code",
      "metadata": {
        "colab": {
          "base_uri": "https://localhost:8080/",
          "height": 279
        },
        "id": "jW3iA5myYH-Y",
        "outputId": "50dc126c-eb34-40a7-b9e0-77d5abdd09b9"
      },
      "source": [
        "# f, axs = plt.subplots(1,2,figsize=(15,5))\n",
        "# axs1 = axs[0]\n",
        "f, axs1 = plt.subplots()\n",
        "axs2 = axs1.twinx()\n",
        "axs1.plot(grid, pre_log, 'b', label = 'Precision')\n",
        "axs2.plot(grid, rec_log, 'r', label = 'Recall')\n",
        "axs1.set_ylabel('Precision', color = 'b')\n",
        "axs1.set_ylim(-0.05,1.05)\n",
        "axs2.set_ylabel('Recall', color = 'r')\n",
        "axs2.set_ylim(-0.05,1.05)\n",
        "axs1.set_xlabel('k: Percent of projects identified as 1: not fully funded')\n",
        "plt.show()"
      ],
      "execution_count": null,
      "outputs": [
        {
          "data": {
            "image/png": "[encoded data removed]",
            "text/plain": [
              "<Figure size 432x288 with 2 Axes>"
            ]
          },
          "metadata": {
            "needs_background": "light"
          },
          "output_type": "display_data"
        }
      ]
    },
    {
      "cell_type": "code",
      "metadata": {
        "id": "DtkkkLe1QpGA"
      },
      "source": [
        "import pandas as pd\n",
        "import matplotlib.pyplot as plt\n",
        "import re\n",
        "import time\n",
        "import warnings\n",
        "import sqlite3\n",
        "from sqlalchemy import create_engine # database connection\n",
        "\n",
        "from sklearn.decomposition import TruncatedSVD\n",
        "from sklearn.preprocessing import normalize\n",
        "from sklearn.feature_extraction.text import CountVectorizer\n",
        "\n",
        "\n",
        "from sklearn.metrics import confusion_matrix\n",
        "# from sklearn.metrics.classification import accuracy_score, log_loss\n",
        "from sklearn.feature_extraction.text import TfidfVectorizer\n",
        "\n",
        "from sklearn.svm import SVC\n",
        "\n",
        "from collections import Counter, defaultdict\n",
        "from sklearn.calibration import CalibratedClassifierCV\n",
        "\n",
        "from sklearn.model_selection import train_test_split\n",
        "from sklearn.model_selection import GridSearchCV\n",
        "import math\n",
        "from sklearn.metrics import normalized_mutual_info_score\n",
        "\n",
        "\n",
        "from sklearn.model_selection import cross_val_score\n",
        "from sklearn.linear_model import SGDClassifier\n",
        "from sklearn.datasets import load_iris\n",
        "from sklearn.model_selection import cross_val_score\n",
        "from sklearn.tree import DecisionTreeClassifier\n",
        "from sklearn import svm\n",
        "\n",
        "from sklearn import model_selection\n",
        "\n",
        "from sklearn.metrics import precision_recall_curve, auc, roc_curve"
      ],
      "execution_count": null,
      "outputs": []
    },
    {
      "cell_type": "markdown",
      "metadata": {
        "id": "S3nGZHvJMklx"
      },
      "source": [
        "**Inprocessing**"
      ]
    },
    {
      "cell_type": "code",
      "metadata": {
        "colab": {
          "base_uri": "https://localhost:8080/",
          "height": 464
        },
        "id": "jcTjer4TGvAr",
        "outputId": "1c5fc19f-3479-45bb-8446-5e0f3c32e359"
      },
      "source": [
        "master = pd.read_csv('../processed_mastersheet1025.zip')\n",
        "master = master.drop(master[master.percent_fulfilled >= 1.0].index)\n",
        "master.head(10)"
      ],
      "execution_count": null,
      "outputs": [
        {
          "data": {
            "text/html": [
              "<div>\n",
              "<style scoped>\n",
              "    .dataframe tbody tr th:only-of-type {\n",
              "        vertical-align: middle;\n",
              "    }\n",
              "\n",
              "    .dataframe tbody tr th {\n",
              "        vertical-align: top;\n",
              "    }\n",
              "\n",
              "    .dataframe thead th {\n",
              "        text-align: right;\n",
              "    }\n",
              "</style>\n",
              "<table border=\"1\" class=\"dataframe\">\n",
              "  <thead>\n",
              "    <tr style=\"text-align: right;\">\n",
              "      <th></th>\n",
              "      <th>Unnamed: 0</th>\n",
              "      <th>projectid</th>\n",
              "      <th>teacher_acctid</th>\n",
              "      <th>schoolid</th>\n",
              "      <th>school_state</th>\n",
              "      <th>school_metro</th>\n",
              "      <th>school_charter</th>\n",
              "      <th>teacher_prefix</th>\n",
              "      <th>teacher_teach_for_america</th>\n",
              "      <th>primary_focus_subject</th>\n",
              "      <th>...</th>\n",
              "      <th>num_donors</th>\n",
              "      <th>num_teachers</th>\n",
              "      <th>total_donation_amount</th>\n",
              "      <th>avg_msg_num_words</th>\n",
              "      <th>fully_funded</th>\n",
              "      <th>day_of_week_posted</th>\n",
              "      <th>percent_fulfilled</th>\n",
              "      <th>amount_remaining</th>\n",
              "      <th>school_pct_funded</th>\n",
              "      <th>teacher_pct_funded</th>\n",
              "    </tr>\n",
              "  </thead>\n",
              "  <tbody>\n",
              "    <tr>\n",
              "      <th>0</th>\n",
              "      <td>0</td>\n",
              "      <td>62526d85d2a1818432d03d600969e99c</td>\n",
              "      <td>ebc7c90b6c92a069432e0714b8d93dfd</td>\n",
              "      <td>5aca9711ff0e4b37db48701f46f73036</td>\n",
              "      <td>IL</td>\n",
              "      <td>suburban</td>\n",
              "      <td>f</td>\n",
              "      <td>Mrs.</td>\n",
              "      <td>f</td>\n",
              "      <td>Special Needs</td>\n",
              "      <td>...</td>\n",
              "      <td>1.0</td>\n",
              "      <td>0.0</td>\n",
              "      <td>42.50</td>\n",
              "      <td>30.0</td>\n",
              "      <td>t</td>\n",
              "      <td>1</td>\n",
              "      <td>0.095643</td>\n",
              "      <td>401.86</td>\n",
              "      <td>0.500000</td>\n",
              "      <td>0.0</td>\n",
              "    </tr>\n",
              "    <tr>\n",
              "      <th>1</th>\n",
              "      <td>1</td>\n",
              "      <td>33d59ac771b80222ad63ef0f4ac47ade</td>\n",
              "      <td>de83b4c1f6428a15032c207c1d5e572a</td>\n",
              "      <td>d91a805b213bf74ae77b94e0de2b73ad</td>\n",
              "      <td>ID</td>\n",
              "      <td>urban</td>\n",
              "      <td>f</td>\n",
              "      <td>Mrs.</td>\n",
              "      <td>f</td>\n",
              "      <td>Mathematics</td>\n",
              "      <td>...</td>\n",
              "      <td>0.0</td>\n",
              "      <td>0.0</td>\n",
              "      <td>0.00</td>\n",
              "      <td>0.0</td>\n",
              "      <td>f</td>\n",
              "      <td>1</td>\n",
              "      <td>0.000000</td>\n",
              "      <td>233.24</td>\n",
              "      <td>0.500000</td>\n",
              "      <td>0.5</td>\n",
              "    </tr>\n",
              "    <tr>\n",
              "      <th>2</th>\n",
              "      <td>2</td>\n",
              "      <td>1a3aaeffc56dd2a421e37d8298024c0a</td>\n",
              "      <td>f4c9ed095b85458dcf858e25f203af00</td>\n",
              "      <td>9310d3eb447a4e46bc5fc31ed007ceac</td>\n",
              "      <td>NH</td>\n",
              "      <td>suburban</td>\n",
              "      <td>f</td>\n",
              "      <td>Mrs.</td>\n",
              "      <td>f</td>\n",
              "      <td>Environmental Science</td>\n",
              "      <td>...</td>\n",
              "      <td>0.0</td>\n",
              "      <td>0.0</td>\n",
              "      <td>0.00</td>\n",
              "      <td>0.0</td>\n",
              "      <td>f</td>\n",
              "      <td>1</td>\n",
              "      <td>0.000000</td>\n",
              "      <td>285.09</td>\n",
              "      <td>0.500000</td>\n",
              "      <td>0.5</td>\n",
              "    </tr>\n",
              "    <tr>\n",
              "      <th>3</th>\n",
              "      <td>3</td>\n",
              "      <td>33aa19ee4da4c5adf47d0dfb84fab5ef</td>\n",
              "      <td>17768031eb40de8d4497dbb54df48742</td>\n",
              "      <td>9ac70da58322783f82152eecc140a812</td>\n",
              "      <td>VA</td>\n",
              "      <td>urban</td>\n",
              "      <td>f</td>\n",
              "      <td>Ms.</td>\n",
              "      <td>f</td>\n",
              "      <td>Literacy</td>\n",
              "      <td>...</td>\n",
              "      <td>1.0</td>\n",
              "      <td>0.0</td>\n",
              "      <td>42.50</td>\n",
              "      <td>0.0</td>\n",
              "      <td>f</td>\n",
              "      <td>1</td>\n",
              "      <td>0.182450</td>\n",
              "      <td>190.44</td>\n",
              "      <td>0.541667</td>\n",
              "      <td>0.6</td>\n",
              "    </tr>\n",
              "    <tr>\n",
              "      <th>4</th>\n",
              "      <td>4</td>\n",
              "      <td>e31c0ea8b68f404699dfb0d39e9bc99b</td>\n",
              "      <td>0f1bc5b4700fd33383be104442660178</td>\n",
              "      <td>cb9f688cf59e3ee22a087d616ca8f5d7</td>\n",
              "      <td>IL</td>\n",
              "      <td>urban</td>\n",
              "      <td>f</td>\n",
              "      <td>Mr.</td>\n",
              "      <td>f</td>\n",
              "      <td>Environmental Science</td>\n",
              "      <td>...</td>\n",
              "      <td>0.0</td>\n",
              "      <td>0.0</td>\n",
              "      <td>0.00</td>\n",
              "      <td>0.0</td>\n",
              "      <td>t</td>\n",
              "      <td>1</td>\n",
              "      <td>0.000000</td>\n",
              "      <td>513.41</td>\n",
              "      <td>0.000000</td>\n",
              "      <td>0.0</td>\n",
              "    </tr>\n",
              "    <tr>\n",
              "      <th>5</th>\n",
              "      <td>5</td>\n",
              "      <td>c685c844476d7ed75bf87699eeafd682</td>\n",
              "      <td>4b19500fb087a635c98061505f1e6c6f</td>\n",
              "      <td>34c650f9f6d5c3e42b8e2169c280ecb7</td>\n",
              "      <td>SC</td>\n",
              "      <td>urban</td>\n",
              "      <td>f</td>\n",
              "      <td>Mrs.</td>\n",
              "      <td>f</td>\n",
              "      <td>Literature &amp; Writing</td>\n",
              "      <td>...</td>\n",
              "      <td>2.0</td>\n",
              "      <td>0.0</td>\n",
              "      <td>42.50</td>\n",
              "      <td>24.5</td>\n",
              "      <td>f</td>\n",
              "      <td>1</td>\n",
              "      <td>0.061763</td>\n",
              "      <td>645.61</td>\n",
              "      <td>0.000000</td>\n",
              "      <td>0.0</td>\n",
              "    </tr>\n",
              "    <tr>\n",
              "      <th>6</th>\n",
              "      <td>6</td>\n",
              "      <td>a4b234feb2b72921ed59850d5c873d62</td>\n",
              "      <td>620982375045fa11d872702f26ab98bb</td>\n",
              "      <td>da1985df161ba5c3842fc99579b6e4b1</td>\n",
              "      <td>KY</td>\n",
              "      <td>urban</td>\n",
              "      <td>f</td>\n",
              "      <td>Mrs.</td>\n",
              "      <td>f</td>\n",
              "      <td>Literature &amp; Writing</td>\n",
              "      <td>...</td>\n",
              "      <td>0.0</td>\n",
              "      <td>0.0</td>\n",
              "      <td>0.00</td>\n",
              "      <td>0.0</td>\n",
              "      <td>f</td>\n",
              "      <td>1</td>\n",
              "      <td>0.000000</td>\n",
              "      <td>935.16</td>\n",
              "      <td>0.625000</td>\n",
              "      <td>0.0</td>\n",
              "    </tr>\n",
              "    <tr>\n",
              "      <th>7</th>\n",
              "      <td>7</td>\n",
              "      <td>0ff5dec32bf793243a8b0b2c023a81f0</td>\n",
              "      <td>ec5b110df87bd511b508961676d08b6c</td>\n",
              "      <td>72e2b0cb2eecfdc37e67e0eaf10da07b</td>\n",
              "      <td>FL</td>\n",
              "      <td>rural</td>\n",
              "      <td>f</td>\n",
              "      <td>Ms.</td>\n",
              "      <td>f</td>\n",
              "      <td>Literacy</td>\n",
              "      <td>...</td>\n",
              "      <td>2.0</td>\n",
              "      <td>1.0</td>\n",
              "      <td>709.75</td>\n",
              "      <td>9.5</td>\n",
              "      <td>t</td>\n",
              "      <td>1</td>\n",
              "      <td>0.876971</td>\n",
              "      <td>99.57</td>\n",
              "      <td>0.000000</td>\n",
              "      <td>0.0</td>\n",
              "    </tr>\n",
              "    <tr>\n",
              "      <th>11</th>\n",
              "      <td>11</td>\n",
              "      <td>c83d0794e67ec95f680cbb058c4523ff</td>\n",
              "      <td>535ab721f66316cf26a1d5ce1d9184f5</td>\n",
              "      <td>9f37b7e58dae8805882cbae215bb5e2a</td>\n",
              "      <td>FL</td>\n",
              "      <td>suburban</td>\n",
              "      <td>f</td>\n",
              "      <td>Mrs.</td>\n",
              "      <td>f</td>\n",
              "      <td>Applied Sciences</td>\n",
              "      <td>...</td>\n",
              "      <td>0.0</td>\n",
              "      <td>0.0</td>\n",
              "      <td>0.00</td>\n",
              "      <td>0.0</td>\n",
              "      <td>f</td>\n",
              "      <td>1</td>\n",
              "      <td>0.000000</td>\n",
              "      <td>269.90</td>\n",
              "      <td>0.000000</td>\n",
              "      <td>0.0</td>\n",
              "    </tr>\n",
              "    <tr>\n",
              "      <th>12</th>\n",
              "      <td>12</td>\n",
              "      <td>3b6bddd1df0e310066d81c2b89771b5c</td>\n",
              "      <td>60a251a9fe882561405e9f6e135afb75</td>\n",
              "      <td>cf7b5a7b866094184208f0f4bc282e6a</td>\n",
              "      <td>NM</td>\n",
              "      <td>urban</td>\n",
              "      <td>f</td>\n",
              "      <td>Mrs.</td>\n",
              "      <td>f</td>\n",
              "      <td>Civics &amp; Government</td>\n",
              "      <td>...</td>\n",
              "      <td>0.0</td>\n",
              "      <td>0.0</td>\n",
              "      <td>0.00</td>\n",
              "      <td>0.0</td>\n",
              "      <td>t</td>\n",
              "      <td>1</td>\n",
              "      <td>0.000000</td>\n",
              "      <td>519.03</td>\n",
              "      <td>0.000000</td>\n",
              "      <td>0.0</td>\n",
              "    </tr>\n",
              "  </tbody>\n",
              "</table>\n",
              "<p>10 rows × 30 columns</p>\n",
              "</div>"
            ],
            "text/plain": [
              "    Unnamed: 0                         projectid  \\\n",
              "0            0  62526d85d2a1818432d03d600969e99c   \n",
              "1            1  33d59ac771b80222ad63ef0f4ac47ade   \n",
              "2            2  1a3aaeffc56dd2a421e37d8298024c0a   \n",
              "3            3  33aa19ee4da4c5adf47d0dfb84fab5ef   \n",
              "4            4  e31c0ea8b68f404699dfb0d39e9bc99b   \n",
              "5            5  c685c844476d7ed75bf87699eeafd682   \n",
              "6            6  a4b234feb2b72921ed59850d5c873d62   \n",
              "7            7  0ff5dec32bf793243a8b0b2c023a81f0   \n",
              "11          11  c83d0794e67ec95f680cbb058c4523ff   \n",
              "12          12  3b6bddd1df0e310066d81c2b89771b5c   \n",
              "\n",
              "                      teacher_acctid                          schoolid  \\\n",
              "0   ebc7c90b6c92a069432e0714b8d93dfd  5aca9711ff0e4b37db48701f46f73036   \n",
              "1   de83b4c1f6428a15032c207c1d5e572a  d91a805b213bf74ae77b94e0de2b73ad   \n",
              "2   f4c9ed095b85458dcf858e25f203af00  9310d3eb447a4e46bc5fc31ed007ceac   \n",
              "3   17768031eb40de8d4497dbb54df48742  9ac70da58322783f82152eecc140a812   \n",
              "4   0f1bc5b4700fd33383be104442660178  cb9f688cf59e3ee22a087d616ca8f5d7   \n",
              "5   4b19500fb087a635c98061505f1e6c6f  34c650f9f6d5c3e42b8e2169c280ecb7   \n",
              "6   620982375045fa11d872702f26ab98bb  da1985df161ba5c3842fc99579b6e4b1   \n",
              "7   ec5b110df87bd511b508961676d08b6c  72e2b0cb2eecfdc37e67e0eaf10da07b   \n",
              "11  535ab721f66316cf26a1d5ce1d9184f5  9f37b7e58dae8805882cbae215bb5e2a   \n",
              "12  60a251a9fe882561405e9f6e135afb75  cf7b5a7b866094184208f0f4bc282e6a   \n",
              "\n",
              "   school_state school_metro school_charter teacher_prefix  \\\n",
              "0            IL     suburban              f           Mrs.   \n",
              "1            ID        urban              f           Mrs.   \n",
              "2            NH     suburban              f           Mrs.   \n",
              "3            VA        urban              f            Ms.   \n",
              "4            IL        urban              f            Mr.   \n",
              "5            SC        urban              f           Mrs.   \n",
              "6            KY        urban              f           Mrs.   \n",
              "7            FL        rural              f            Ms.   \n",
              "11           FL     suburban              f           Mrs.   \n",
              "12           NM        urban              f           Mrs.   \n",
              "\n",
              "   teacher_teach_for_america  primary_focus_subject  ... num_donors  \\\n",
              "0                          f          Special Needs  ...        1.0   \n",
              "1                          f            Mathematics  ...        0.0   \n",
              "2                          f  Environmental Science  ...        0.0   \n",
              "3                          f               Literacy  ...        1.0   \n",
              "4                          f  Environmental Science  ...        0.0   \n",
              "5                          f   Literature & Writing  ...        2.0   \n",
              "6                          f   Literature & Writing  ...        0.0   \n",
              "7                          f               Literacy  ...        2.0   \n",
              "11                         f       Applied Sciences  ...        0.0   \n",
              "12                         f    Civics & Government  ...        0.0   \n",
              "\n",
              "   num_teachers total_donation_amount  avg_msg_num_words  fully_funded  \\\n",
              "0           0.0                 42.50               30.0             t   \n",
              "1           0.0                  0.00                0.0             f   \n",
              "2           0.0                  0.00                0.0             f   \n",
              "3           0.0                 42.50                0.0             f   \n",
              "4           0.0                  0.00                0.0             t   \n",
              "5           0.0                 42.50               24.5             f   \n",
              "6           0.0                  0.00                0.0             f   \n",
              "7           1.0                709.75                9.5             t   \n",
              "11          0.0                  0.00                0.0             f   \n",
              "12          0.0                  0.00                0.0             t   \n",
              "\n",
              "   day_of_week_posted  percent_fulfilled  amount_remaining  school_pct_funded  \\\n",
              "0                   1           0.095643            401.86           0.500000   \n",
              "1                   1           0.000000            233.24           0.500000   \n",
              "2                   1           0.000000            285.09           0.500000   \n",
              "3                   1           0.182450            190.44           0.541667   \n",
              "4                   1           0.000000            513.41           0.000000   \n",
              "5                   1           0.061763            645.61           0.000000   \n",
              "6                   1           0.000000            935.16           0.625000   \n",
              "7                   1           0.876971             99.57           0.000000   \n",
              "11                  1           0.000000            269.90           0.000000   \n",
              "12                  1           0.000000            519.03           0.000000   \n",
              "\n",
              "    teacher_pct_funded  \n",
              "0                  0.0  \n",
              "1                  0.5  \n",
              "2                  0.5  \n",
              "3                  0.6  \n",
              "4                  0.0  \n",
              "5                  0.0  \n",
              "6                  0.0  \n",
              "7                  0.0  \n",
              "11                 0.0  \n",
              "12                 0.0  \n",
              "\n",
              "[10 rows x 30 columns]"
            ]
          },
          "execution_count": 10,
          "metadata": {},
          "output_type": "execute_result"
        }
      ]
    },
    {
      "cell_type": "code",
      "metadata": {
        "colab": {
          "base_uri": "https://localhost:8080/",
          "height": 148
        },
        "id": "mgUcPiopilGf",
        "outputId": "61c0b267-3da5-4b71-cf86-5a3607f3f66d"
      },
      "source": [
        "master['date_posted'] = pd.to_datetime(master['date_posted'])\n",
        "master.fully_funded = master.fully_funded.replace({'f':1, 't':0})\n",
        "master.head(2)"
      ],
      "execution_count": null,
      "outputs": [
        {
          "data": {
            "text/html": [
              "<div>\n",
              "<style scoped>\n",
              "    .dataframe tbody tr th:only-of-type {\n",
              "        vertical-align: middle;\n",
              "    }\n",
              "\n",
              "    .dataframe tbody tr th {\n",
              "        vertical-align: top;\n",
              "    }\n",
              "\n",
              "    .dataframe thead th {\n",
              "        text-align: right;\n",
              "    }\n",
              "</style>\n",
              "<table border=\"1\" class=\"dataframe\">\n",
              "  <thead>\n",
              "    <tr style=\"text-align: right;\">\n",
              "      <th></th>\n",
              "      <th>Unnamed: 0</th>\n",
              "      <th>projectid</th>\n",
              "      <th>teacher_acctid</th>\n",
              "      <th>schoolid</th>\n",
              "      <th>school_state</th>\n",
              "      <th>school_metro</th>\n",
              "      <th>school_charter</th>\n",
              "      <th>teacher_prefix</th>\n",
              "      <th>teacher_teach_for_america</th>\n",
              "      <th>primary_focus_subject</th>\n",
              "      <th>...</th>\n",
              "      <th>num_donors</th>\n",
              "      <th>num_teachers</th>\n",
              "      <th>total_donation_amount</th>\n",
              "      <th>avg_msg_num_words</th>\n",
              "      <th>fully_funded</th>\n",
              "      <th>day_of_week_posted</th>\n",
              "      <th>percent_fulfilled</th>\n",
              "      <th>amount_remaining</th>\n",
              "      <th>school_pct_funded</th>\n",
              "      <th>teacher_pct_funded</th>\n",
              "    </tr>\n",
              "  </thead>\n",
              "  <tbody>\n",
              "    <tr>\n",
              "      <th>0</th>\n",
              "      <td>0</td>\n",
              "      <td>62526d85d2a1818432d03d600969e99c</td>\n",
              "      <td>ebc7c90b6c92a069432e0714b8d93dfd</td>\n",
              "      <td>5aca9711ff0e4b37db48701f46f73036</td>\n",
              "      <td>IL</td>\n",
              "      <td>suburban</td>\n",
              "      <td>f</td>\n",
              "      <td>Mrs.</td>\n",
              "      <td>f</td>\n",
              "      <td>Special Needs</td>\n",
              "      <td>...</td>\n",
              "      <td>1.0</td>\n",
              "      <td>0.0</td>\n",
              "      <td>42.5</td>\n",
              "      <td>30.0</td>\n",
              "      <td>0</td>\n",
              "      <td>1</td>\n",
              "      <td>0.095643</td>\n",
              "      <td>401.86</td>\n",
              "      <td>0.5</td>\n",
              "      <td>0.0</td>\n",
              "    </tr>\n",
              "    <tr>\n",
              "      <th>1</th>\n",
              "      <td>1</td>\n",
              "      <td>33d59ac771b80222ad63ef0f4ac47ade</td>\n",
              "      <td>de83b4c1f6428a15032c207c1d5e572a</td>\n",
              "      <td>d91a805b213bf74ae77b94e0de2b73ad</td>\n",
              "      <td>ID</td>\n",
              "      <td>urban</td>\n",
              "      <td>f</td>\n",
              "      <td>Mrs.</td>\n",
              "      <td>f</td>\n",
              "      <td>Mathematics</td>\n",
              "      <td>...</td>\n",
              "      <td>0.0</td>\n",
              "      <td>0.0</td>\n",
              "      <td>0.0</td>\n",
              "      <td>0.0</td>\n",
              "      <td>1</td>\n",
              "      <td>1</td>\n",
              "      <td>0.000000</td>\n",
              "      <td>233.24</td>\n",
              "      <td>0.5</td>\n",
              "      <td>0.5</td>\n",
              "    </tr>\n",
              "  </tbody>\n",
              "</table>\n",
              "<p>2 rows × 30 columns</p>\n",
              "</div>"
            ],
            "text/plain": [
              "   Unnamed: 0                         projectid  \\\n",
              "0           0  62526d85d2a1818432d03d600969e99c   \n",
              "1           1  33d59ac771b80222ad63ef0f4ac47ade   \n",
              "\n",
              "                     teacher_acctid                          schoolid  \\\n",
              "0  ebc7c90b6c92a069432e0714b8d93dfd  5aca9711ff0e4b37db48701f46f73036   \n",
              "1  de83b4c1f6428a15032c207c1d5e572a  d91a805b213bf74ae77b94e0de2b73ad   \n",
              "\n",
              "  school_state school_metro school_charter teacher_prefix  \\\n",
              "0           IL     suburban              f           Mrs.   \n",
              "1           ID        urban              f           Mrs.   \n",
              "\n",
              "  teacher_teach_for_america primary_focus_subject  ... num_donors  \\\n",
              "0                         f         Special Needs  ...        1.0   \n",
              "1                         f           Mathematics  ...        0.0   \n",
              "\n",
              "  num_teachers total_donation_amount  avg_msg_num_words  fully_funded  \\\n",
              "0          0.0                  42.5               30.0             0   \n",
              "1          0.0                   0.0                0.0             1   \n",
              "\n",
              "  day_of_week_posted  percent_fulfilled  amount_remaining  school_pct_funded  \\\n",
              "0                  1           0.095643            401.86                0.5   \n",
              "1                  1           0.000000            233.24                0.5   \n",
              "\n",
              "   teacher_pct_funded  \n",
              "0                 0.0  \n",
              "1                 0.5  \n",
              "\n",
              "[2 rows x 30 columns]"
            ]
          },
          "execution_count": 11,
          "metadata": {},
          "output_type": "execute_result"
        }
      ]
    },
    {
      "cell_type": "markdown",
      "metadata": {
        "id": "mHWQpvJFTcc6"
      },
      "source": [
        " Convert Categorical data"
      ]
    },
    {
      "cell_type": "code",
      "metadata": {
        "id": "eNW6HyYO0a59"
      },
      "source": [
        "import collections\n",
        "def getMap(name):\n",
        "    tmp = dict(master[name].value_counts())\n",
        "    freq = list(reversed(sorted([tmp[i] for i in tmp])))\n",
        "    res = collections.defaultdict(int)\n",
        "    for key, val in tmp.items():\n",
        "      res[key] = freq.index(val)\n",
        "    return res\n"
      ],
      "execution_count": null,
      "outputs": []
    },
    {
      "cell_type": "code",
      "metadata": {
        "id": "e8xAo78E-hMC"
      },
      "source": [
        "code_school_state = master[\"school_state\"].map(getMap('school_state'))\n",
        "code_school_state = code_school_state.fillna(code_school_state.mean())\n"
      ],
      "execution_count": null,
      "outputs": []
    },
    {
      "cell_type": "code",
      "metadata": {
        "id": "nQqVPIDdetZN"
      },
      "source": [
        "code_school_metro = master['school_metro'].map(getMap('school_metro'))\n",
        "code_school_metro = code_school_metro.fillna(code_school_metro.mean())"
      ],
      "execution_count": null,
      "outputs": []
    },
    {
      "cell_type": "code",
      "metadata": {
        "id": "sz11ji4Ie6Xd"
      },
      "source": [
        "code_school_charter = master['school_charter'].map(getMap('school_charter'))"
      ],
      "execution_count": null,
      "outputs": []
    },
    {
      "cell_type": "code",
      "metadata": {
        "id": "TefXKOQBe_vx"
      },
      "source": [
        "code_teacher_prefix = master['teacher_prefix'].map(getMap('teacher_prefix'))"
      ],
      "execution_count": null,
      "outputs": []
    },
    {
      "cell_type": "code",
      "metadata": {
        "id": "oApvmBKwZbt3"
      },
      "source": [
        "code_teacher_teach_for_america = master['teacher_teach_for_america'].map(getMap('teacher_teach_for_america'))"
      ],
      "execution_count": null,
      "outputs": []
    },
    {
      "cell_type": "code",
      "metadata": {
        "id": "U5py3ncJZi24"
      },
      "source": [
        "code_primary_focus_subject = master['primary_focus_subject'].map(getMap('primary_focus_subject'))"
      ],
      "execution_count": null,
      "outputs": []
    },
    {
      "cell_type": "code",
      "metadata": {
        "id": "ZjRijhLQZqG1"
      },
      "source": [
        "code_resource_type = master['resource_type'].map(getMap('resource_type'))"
      ],
      "execution_count": null,
      "outputs": []
    },
    {
      "cell_type": "code",
      "metadata": {
        "id": "0MBOcwO7ZwDQ"
      },
      "source": [
        "code_poverty_level = master['poverty_level'].map(getMap('poverty_level'))"
      ],
      "execution_count": null,
      "outputs": []
    },
    {
      "cell_type": "code",
      "metadata": {
        "id": "FeuE7eN9Z2LB"
      },
      "source": [
        "code_grade_level = master['grade_level'].map(getMap('grade_level'))"
      ],
      "execution_count": null,
      "outputs": []
    },
    {
      "cell_type": "code",
      "metadata": {
        "id": "jw4vkycwZ7WJ"
      },
      "source": [
        "code_day_of_week_posted = master['day_of_week_posted'].map(getMap('day_of_week_posted'))"
      ],
      "execution_count": null,
      "outputs": []
    },
    {
      "cell_type": "code",
      "metadata": {
        "id": "RdVB8BfBnUba"
      },
      "source": [
        "norm_code_school_state = (code_school_state - code_school_state.mean()) / code_school_state.std()\n",
        "norm_code_school_metro = (code_school_metro - code_school_metro.mean()) / code_school_metro.std()\n",
        "norm_code_school_charter = (code_school_charter - code_school_charter.mean()) / code_school_charter.std()\n",
        "norm_code_teacher_prefix = (code_teacher_prefix - code_teacher_prefix.mean()) / code_teacher_prefix.std()\n",
        "norm_code_teacher_teach_for_america = (code_teacher_teach_for_america - code_teacher_teach_for_america.mean()) / code_teacher_teach_for_america.std()\n",
        "norm_code_primary_focus_subject = (code_primary_focus_subject - code_primary_focus_subject.mean()) / code_primary_focus_subject.std()\n",
        "norm_code_resource_type = (code_resource_type - code_resource_type.mean()) / code_resource_type.std()\n",
        "norm_code_poverty_level = (code_poverty_level - code_poverty_level.mean()) / code_poverty_level.std()\n",
        "norm_code_grade_level = (code_grade_level - code_grade_level.mean()) / code_grade_level.std()\n",
        "norm_code_day_of_week_posted = (code_day_of_week_posted - code_day_of_week_posted.mean()) / code_day_of_week_posted.std()"
      ],
      "execution_count": null,
      "outputs": []
    },
    {
      "cell_type": "code",
      "metadata": {
        "colab": {
          "base_uri": "https://localhost:8080/"
        },
        "id": "mCiWYEpuEP2p",
        "outputId": "c0e6abeb-ebc2-4bd0-8d69-572a0b6612e5"
      },
      "source": [
        "norm_code_teacher_prefix.isna().sum()"
      ],
      "execution_count": null,
      "outputs": [
        {
          "data": {
            "text/plain": [
              "0"
            ]
          },
          "execution_count": 24,
          "metadata": {},
          "output_type": "execute_result"
        }
      ]
    },
    {
      "cell_type": "code",
      "metadata": {
        "id": "b5WlVYXxTH-q"
      },
      "source": [
        "num_features = master[['total_price_excluding_optional_support','students_reached','title_num_words','description_num_words','statement_num_words','essay_num_words','num_donors','num_teachers','avg_msg_num_words','percent_fulfilled','amount_remaining','school_pct_funded','teacher_pct_funded']]\n",
        "labels = master['fully_funded']"
      ],
      "execution_count": null,
      "outputs": []
    },
    {
      "cell_type": "code",
      "metadata": {
        "colab": {
          "base_uri": "https://localhost:8080/",
          "height": 224
        },
        "id": "OE9nNxl5fwMS",
        "outputId": "8e588218-9d80-463d-d248-2753f5ca2ef7"
      },
      "source": [
        "num_features.head()"
      ],
      "execution_count": null,
      "outputs": [
        {
          "data": {
            "text/html": [
              "<div>\n",
              "<style scoped>\n",
              "    .dataframe tbody tr th:only-of-type {\n",
              "        vertical-align: middle;\n",
              "    }\n",
              "\n",
              "    .dataframe tbody tr th {\n",
              "        vertical-align: top;\n",
              "    }\n",
              "\n",
              "    .dataframe thead th {\n",
              "        text-align: right;\n",
              "    }\n",
              "</style>\n",
              "<table border=\"1\" class=\"dataframe\">\n",
              "  <thead>\n",
              "    <tr style=\"text-align: right;\">\n",
              "      <th></th>\n",
              "      <th>total_price_excluding_optional_support</th>\n",
              "      <th>students_reached</th>\n",
              "      <th>title_num_words</th>\n",
              "      <th>description_num_words</th>\n",
              "      <th>statement_num_words</th>\n",
              "      <th>essay_num_words</th>\n",
              "      <th>num_donors</th>\n",
              "      <th>num_teachers</th>\n",
              "      <th>avg_msg_num_words</th>\n",
              "      <th>percent_fulfilled</th>\n",
              "      <th>amount_remaining</th>\n",
              "      <th>school_pct_funded</th>\n",
              "      <th>teacher_pct_funded</th>\n",
              "    </tr>\n",
              "  </thead>\n",
              "  <tbody>\n",
              "    <tr>\n",
              "      <th>0</th>\n",
              "      <td>444.36</td>\n",
              "      <td>7.0</td>\n",
              "      <td>8.0</td>\n",
              "      <td>33.0</td>\n",
              "      <td>10.0</td>\n",
              "      <td>220.0</td>\n",
              "      <td>1.0</td>\n",
              "      <td>0.0</td>\n",
              "      <td>30.0</td>\n",
              "      <td>0.095643</td>\n",
              "      <td>401.86</td>\n",
              "      <td>0.500000</td>\n",
              "      <td>0.0</td>\n",
              "    </tr>\n",
              "    <tr>\n",
              "      <th>1</th>\n",
              "      <td>233.24</td>\n",
              "      <td>30.0</td>\n",
              "      <td>3.0</td>\n",
              "      <td>33.0</td>\n",
              "      <td>14.0</td>\n",
              "      <td>175.0</td>\n",
              "      <td>0.0</td>\n",
              "      <td>0.0</td>\n",
              "      <td>0.0</td>\n",
              "      <td>0.000000</td>\n",
              "      <td>233.24</td>\n",
              "      <td>0.500000</td>\n",
              "      <td>0.5</td>\n",
              "    </tr>\n",
              "    <tr>\n",
              "      <th>2</th>\n",
              "      <td>285.09</td>\n",
              "      <td>230.0</td>\n",
              "      <td>3.0</td>\n",
              "      <td>35.0</td>\n",
              "      <td>29.0</td>\n",
              "      <td>390.0</td>\n",
              "      <td>0.0</td>\n",
              "      <td>0.0</td>\n",
              "      <td>0.0</td>\n",
              "      <td>0.000000</td>\n",
              "      <td>285.09</td>\n",
              "      <td>0.500000</td>\n",
              "      <td>0.5</td>\n",
              "    </tr>\n",
              "    <tr>\n",
              "      <th>3</th>\n",
              "      <td>232.94</td>\n",
              "      <td>18.0</td>\n",
              "      <td>3.0</td>\n",
              "      <td>34.0</td>\n",
              "      <td>18.0</td>\n",
              "      <td>187.0</td>\n",
              "      <td>1.0</td>\n",
              "      <td>0.0</td>\n",
              "      <td>0.0</td>\n",
              "      <td>0.182450</td>\n",
              "      <td>190.44</td>\n",
              "      <td>0.541667</td>\n",
              "      <td>0.6</td>\n",
              "    </tr>\n",
              "    <tr>\n",
              "      <th>4</th>\n",
              "      <td>513.41</td>\n",
              "      <td>70.0</td>\n",
              "      <td>3.0</td>\n",
              "      <td>35.0</td>\n",
              "      <td>30.0</td>\n",
              "      <td>347.0</td>\n",
              "      <td>0.0</td>\n",
              "      <td>0.0</td>\n",
              "      <td>0.0</td>\n",
              "      <td>0.000000</td>\n",
              "      <td>513.41</td>\n",
              "      <td>0.000000</td>\n",
              "      <td>0.0</td>\n",
              "    </tr>\n",
              "  </tbody>\n",
              "</table>\n",
              "</div>"
            ],
            "text/plain": [
              "   total_price_excluding_optional_support  students_reached  title_num_words  \\\n",
              "0                                  444.36               7.0              8.0   \n",
              "1                                  233.24              30.0              3.0   \n",
              "2                                  285.09             230.0              3.0   \n",
              "3                                  232.94              18.0              3.0   \n",
              "4                                  513.41              70.0              3.0   \n",
              "\n",
              "   description_num_words  statement_num_words  essay_num_words  num_donors  \\\n",
              "0                   33.0                 10.0            220.0         1.0   \n",
              "1                   33.0                 14.0            175.0         0.0   \n",
              "2                   35.0                 29.0            390.0         0.0   \n",
              "3                   34.0                 18.0            187.0         1.0   \n",
              "4                   35.0                 30.0            347.0         0.0   \n",
              "\n",
              "   num_teachers  avg_msg_num_words  percent_fulfilled  amount_remaining  \\\n",
              "0           0.0               30.0           0.095643            401.86   \n",
              "1           0.0                0.0           0.000000            233.24   \n",
              "2           0.0                0.0           0.000000            285.09   \n",
              "3           0.0                0.0           0.182450            190.44   \n",
              "4           0.0                0.0           0.000000            513.41   \n",
              "\n",
              "   school_pct_funded  teacher_pct_funded  \n",
              "0           0.500000                 0.0  \n",
              "1           0.500000                 0.5  \n",
              "2           0.500000                 0.5  \n",
              "3           0.541667                 0.6  \n",
              "4           0.000000                 0.0  "
            ]
          },
          "execution_count": 26,
          "metadata": {},
          "output_type": "execute_result"
        }
      ]
    },
    {
      "cell_type": "code",
      "metadata": {
        "id": "Qjowc9wWapeX",
        "outputId": "f4ee081c-fd59-442a-bae6-4397c6641fed"
      },
      "source": [
        "num_features['total_price_excluding_optional_support'] = num_features['total_price_excluding_optional_support'].clip(upper = 2000)\n",
        "num_features['students_reached'] = num_features['students_reached'].clip(upper = 200)\n",
        "num_features['statement_num_words'] = num_features['statement_num_words'].clip(upper = 250)\n",
        "num_features['num_donors'] = num_features['num_donors'].clip(upper = 10)\n",
        "num_features['num_teachers'] = num_features['num_teachers'].clip(upper = 5)\n",
        "num_features['avg_msg_num_words'] = num_features['avg_msg_num_words'].clip(upper = 100)\n",
        "num_features['amount_remaining'] = num_features['amount_remaining'].clip(upper = 2000)"
      ],
      "execution_count": null,
      "outputs": [
        {
          "name": "stderr",
          "output_type": "stream",
          "text": [
            "<ipython-input-27-a35403248c38>:1: SettingWithCopyWarning: \n",
            "A value is trying to be set on a copy of a slice from a DataFrame.\n",
            "Try using .loc[row_indexer,col_indexer] = value instead\n",
            "\n",
            "See the caveats in the documentation: https://pandas.pydata.org/pandas-docs/stable/user_guide/indexing.html#returning-a-view-versus-a-copy\n",
            "  num_features['total_price_excluding_optional_support'] = num_features['total_price_excluding_optional_support'].clip(upper = 2000)\n",
            "<ipython-input-27-a35403248c38>:2: SettingWithCopyWarning: \n",
            "A value is trying to be set on a copy of a slice from a DataFrame.\n",
            "Try using .loc[row_indexer,col_indexer] = value instead\n",
            "\n",
            "See the caveats in the documentation: https://pandas.pydata.org/pandas-docs/stable/user_guide/indexing.html#returning-a-view-versus-a-copy\n",
            "  num_features['students_reached'] = num_features['students_reached'].clip(upper = 200)\n",
            "<ipython-input-27-a35403248c38>:3: SettingWithCopyWarning: \n",
            "A value is trying to be set on a copy of a slice from a DataFrame.\n",
            "Try using .loc[row_indexer,col_indexer] = value instead\n",
            "\n",
            "See the caveats in the documentation: https://pandas.pydata.org/pandas-docs/stable/user_guide/indexing.html#returning-a-view-versus-a-copy\n",
            "  num_features['statement_num_words'] = num_features['statement_num_words'].clip(upper = 250)\n",
            "<ipython-input-27-a35403248c38>:4: SettingWithCopyWarning: \n",
            "A value is trying to be set on a copy of a slice from a DataFrame.\n",
            "Try using .loc[row_indexer,col_indexer] = value instead\n",
            "\n",
            "See the caveats in the documentation: https://pandas.pydata.org/pandas-docs/stable/user_guide/indexing.html#returning-a-view-versus-a-copy\n",
            "  num_features['num_donors'] = num_features['num_donors'].clip(upper = 10)\n",
            "<ipython-input-27-a35403248c38>:5: SettingWithCopyWarning: \n",
            "A value is trying to be set on a copy of a slice from a DataFrame.\n",
            "Try using .loc[row_indexer,col_indexer] = value instead\n",
            "\n",
            "See the caveats in the documentation: https://pandas.pydata.org/pandas-docs/stable/user_guide/indexing.html#returning-a-view-versus-a-copy\n",
            "  num_features['num_teachers'] = num_features['num_teachers'].clip(upper = 5)\n",
            "<ipython-input-27-a35403248c38>:6: SettingWithCopyWarning: \n",
            "A value is trying to be set on a copy of a slice from a DataFrame.\n",
            "Try using .loc[row_indexer,col_indexer] = value instead\n",
            "\n",
            "See the caveats in the documentation: https://pandas.pydata.org/pandas-docs/stable/user_guide/indexing.html#returning-a-view-versus-a-copy\n",
            "  num_features['avg_msg_num_words'] = num_features['avg_msg_num_words'].clip(upper = 100)\n",
            "<ipython-input-27-a35403248c38>:7: SettingWithCopyWarning: \n",
            "A value is trying to be set on a copy of a slice from a DataFrame.\n",
            "Try using .loc[row_indexer,col_indexer] = value instead\n",
            "\n",
            "See the caveats in the documentation: https://pandas.pydata.org/pandas-docs/stable/user_guide/indexing.html#returning-a-view-versus-a-copy\n",
            "  num_features['amount_remaining'] = num_features['amount_remaining'].clip(upper = 2000)\n"
          ]
        }
      ]
    },
    {
      "cell_type": "code",
      "metadata": {
        "id": "Oh-rFQURY781"
      },
      "source": [
        "norm_num_features = (num_features - num_features.mean())/num_features.std()"
      ],
      "execution_count": null,
      "outputs": []
    },
    {
      "cell_type": "code",
      "metadata": {
        "colab": {
          "base_uri": "https://localhost:8080/"
        },
        "id": "o_g8u4zkCkMi",
        "outputId": "37d13c6d-8039-42a1-dde4-4901baf28b86"
      },
      "source": [
        "norm_num_features.isna().sum()"
      ],
      "execution_count": null,
      "outputs": [
        {
          "data": {
            "text/plain": [
              "total_price_excluding_optional_support       0\n",
              "students_reached                           116\n",
              "title_num_words                             15\n",
              "description_num_words                       89\n",
              "statement_num_words                       1292\n",
              "essay_num_words                              3\n",
              "num_donors                                   0\n",
              "num_teachers                                 0\n",
              "avg_msg_num_words                            0\n",
              "percent_fulfilled                          299\n",
              "amount_remaining                             0\n",
              "school_pct_funded                            0\n",
              "teacher_pct_funded                           0\n",
              "dtype: int64"
            ]
          },
          "execution_count": 29,
          "metadata": {},
          "output_type": "execute_result"
        }
      ]
    },
    {
      "cell_type": "code",
      "metadata": {
        "id": "4IMp6Xunqi0D"
      },
      "source": [
        "norm_num_features['students_reached'] = norm_num_features['students_reached'].fillna(norm_num_features['students_reached'].mean())\n",
        "norm_num_features['title_num_words'] = norm_num_features['title_num_words'].fillna(norm_num_features['title_num_words'].mean())\n",
        "norm_num_features['description_num_words'] = norm_num_features['description_num_words'].fillna(norm_num_features['description_num_words'].mean())\n",
        "norm_num_features['statement_num_words'] = norm_num_features['statement_num_words'].fillna(norm_num_features['statement_num_words'].mean())\n",
        "norm_num_features['percent_fulfilled'] = norm_num_features['percent_fulfilled'].fillna(norm_num_features['percent_fulfilled'].mean())\n",
        "norm_num_features['essay_num_words'] = norm_num_features['essay_num_words'].fillna(norm_num_features['essay_num_words'].mean())\n"
      ],
      "execution_count": null,
      "outputs": []
    },
    {
      "cell_type": "code",
      "metadata": {
        "colab": {
          "base_uri": "https://localhost:8080/"
        },
        "id": "uRsZvhAwH5SI",
        "outputId": "d3d06dfa-5c1d-4ec1-890e-ccb61fff3d05"
      },
      "source": [
        "norm_num_features.isna().sum()"
      ],
      "execution_count": null,
      "outputs": [
        {
          "data": {
            "text/plain": [
              "total_price_excluding_optional_support    0\n",
              "students_reached                          0\n",
              "title_num_words                           0\n",
              "description_num_words                     0\n",
              "statement_num_words                       0\n",
              "essay_num_words                           0\n",
              "num_donors                                0\n",
              "num_teachers                              0\n",
              "avg_msg_num_words                         0\n",
              "percent_fulfilled                         0\n",
              "amount_remaining                          0\n",
              "school_pct_funded                         0\n",
              "teacher_pct_funded                        0\n",
              "dtype: int64"
            ]
          },
          "execution_count": 31,
          "metadata": {},
          "output_type": "execute_result"
        }
      ]
    },
    {
      "cell_type": "code",
      "metadata": {
        "colab": {
          "base_uri": "https://localhost:8080/"
        },
        "id": "rdv81XsblF23",
        "outputId": "9f4c75d3-3a26-4337-de2d-e21eee743dce"
      },
      "source": [
        "from scipy.sparse import hstack\n",
        "features = pd.concat([norm_num_features, norm_code_school_state, norm_code_school_metro, norm_code_school_charter, norm_code_teacher_prefix, norm_code_teacher_teach_for_america, norm_code_primary_focus_subject, norm_code_resource_type, norm_code_poverty_level,norm_code_grade_level, norm_code_day_of_week_posted], axis = 1)\n",
        "features.shape"
      ],
      "execution_count": null,
      "outputs": [
        {
          "data": {
            "text/plain": [
              "(526994, 23)"
            ]
          },
          "execution_count": 32,
          "metadata": {},
          "output_type": "execute_result"
        }
      ]
    },
    {
      "cell_type": "code",
      "metadata": {
        "colab": {
          "base_uri": "https://localhost:8080/",
          "height": 131
        },
        "id": "6_4iAfe-moe5",
        "outputId": "1666c850-d3b2-457c-9d27-4da96fe421b7"
      },
      "source": [
        "features.head(2)"
      ],
      "execution_count": null,
      "outputs": [
        {
          "data": {
            "text/html": [
              "<div>\n",
              "<style scoped>\n",
              "    .dataframe tbody tr th:only-of-type {\n",
              "        vertical-align: middle;\n",
              "    }\n",
              "\n",
              "    .dataframe tbody tr th {\n",
              "        vertical-align: top;\n",
              "    }\n",
              "\n",
              "    .dataframe thead th {\n",
              "        text-align: right;\n",
              "    }\n",
              "</style>\n",
              "<table border=\"1\" class=\"dataframe\">\n",
              "  <thead>\n",
              "    <tr style=\"text-align: right;\">\n",
              "      <th></th>\n",
              "      <th>total_price_excluding_optional_support</th>\n",
              "      <th>students_reached</th>\n",
              "      <th>title_num_words</th>\n",
              "      <th>description_num_words</th>\n",
              "      <th>statement_num_words</th>\n",
              "      <th>essay_num_words</th>\n",
              "      <th>num_donors</th>\n",
              "      <th>num_teachers</th>\n",
              "      <th>avg_msg_num_words</th>\n",
              "      <th>percent_fulfilled</th>\n",
              "      <th>...</th>\n",
              "      <th>school_state</th>\n",
              "      <th>school_metro</th>\n",
              "      <th>school_charter</th>\n",
              "      <th>teacher_prefix</th>\n",
              "      <th>teacher_teach_for_america</th>\n",
              "      <th>primary_focus_subject</th>\n",
              "      <th>resource_type</th>\n",
              "      <th>poverty_level</th>\n",
              "      <th>grade_level</th>\n",
              "      <th>day_of_week_posted</th>\n",
              "    </tr>\n",
              "  </thead>\n",
              "  <tbody>\n",
              "    <tr>\n",
              "      <th>0</th>\n",
              "      <td>-0.139166</td>\n",
              "      <td>-0.942839</td>\n",
              "      <td>1.203844</td>\n",
              "      <td>-0.477753</td>\n",
              "      <td>-1.085948</td>\n",
              "      <td>-0.657773</td>\n",
              "      <td>0.198050</td>\n",
              "      <td>-0.260987</td>\n",
              "      <td>3.202386</td>\n",
              "      <td>0.230526</td>\n",
              "      <td>...</td>\n",
              "      <td>-0.601811</td>\n",
              "      <td>0.740863</td>\n",
              "      <td>-0.300254</td>\n",
              "      <td>-0.920449</td>\n",
              "      <td>-0.235718</td>\n",
              "      <td>-0.245134</td>\n",
              "      <td>1.841029</td>\n",
              "      <td>1.729966</td>\n",
              "      <td>-0.091199</td>\n",
              "      <td>-0.847185</td>\n",
              "    </tr>\n",
              "    <tr>\n",
              "      <th>1</th>\n",
              "      <td>-0.767361</td>\n",
              "      <td>-0.568445</td>\n",
              "      <td>-0.960139</td>\n",
              "      <td>-0.477753</td>\n",
              "      <td>-0.636043</td>\n",
              "      <td>-1.159820</td>\n",
              "      <td>-0.402367</td>\n",
              "      <td>-0.260987</td>\n",
              "      <td>-0.425502</td>\n",
              "      <td>-0.376891</td>\n",
              "      <td>...</td>\n",
              "      <td>2.848099</td>\n",
              "      <td>-0.673975</td>\n",
              "      <td>-0.300254</td>\n",
              "      <td>-0.920449</td>\n",
              "      <td>-0.235718</td>\n",
              "      <td>-0.429571</td>\n",
              "      <td>-1.072358</td>\n",
              "      <td>0.490380</td>\n",
              "      <td>-0.091199</td>\n",
              "      <td>-0.847185</td>\n",
              "    </tr>\n",
              "  </tbody>\n",
              "</table>\n",
              "<p>2 rows × 23 columns</p>\n",
              "</div>"
            ],
            "text/plain": [
              "   total_price_excluding_optional_support  students_reached  title_num_words  \\\n",
              "0                               -0.139166         -0.942839         1.203844   \n",
              "1                               -0.767361         -0.568445        -0.960139   \n",
              "\n",
              "   description_num_words  statement_num_words  essay_num_words  num_donors  \\\n",
              "0              -0.477753            -1.085948        -0.657773    0.198050   \n",
              "1              -0.477753            -0.636043        -1.159820   -0.402367   \n",
              "\n",
              "   num_teachers  avg_msg_num_words  percent_fulfilled  ...  school_state  \\\n",
              "0     -0.260987           3.202386           0.230526  ...     -0.601811   \n",
              "1     -0.260987          -0.425502          -0.376891  ...      2.848099   \n",
              "\n",
              "   school_metro  school_charter  teacher_prefix  teacher_teach_for_america  \\\n",
              "0      0.740863       -0.300254       -0.920449                  -0.235718   \n",
              "1     -0.673975       -0.300254       -0.920449                  -0.235718   \n",
              "\n",
              "   primary_focus_subject  resource_type  poverty_level  grade_level  \\\n",
              "0              -0.245134       1.841029       1.729966    -0.091199   \n",
              "1              -0.429571      -1.072358       0.490380    -0.091199   \n",
              "\n",
              "   day_of_week_posted  \n",
              "0           -0.847185  \n",
              "1           -0.847185  \n",
              "\n",
              "[2 rows x 23 columns]"
            ]
          },
          "execution_count": 33,
          "metadata": {},
          "output_type": "execute_result"
        }
      ]
    },
    {
      "cell_type": "code",
      "metadata": {
        "id": "r6WIR4xRbm9d"
      },
      "source": [
        "t_mask = (master['date_posted'] >= '2013-02-01') & (master['date_posted'] <= '2013-07-31')\n",
        "v_mask = (master['date_posted'] >= '2013-12-01') & (master['date_posted'] <= '2013-12-31')"
      ],
      "execution_count": null,
      "outputs": []
    },
    {
      "cell_type": "code",
      "metadata": {
        "id": "QLmDcKGKY3uK"
      },
      "source": [
        "data_train, x_train, Y_train = master.loc[t_mask], features.loc[t_mask], labels.loc[t_mask]\n",
        "data_test, x_test, Y_test = master.loc[v_mask], features.loc[v_mask], labels.loc[v_mask]"
      ],
      "execution_count": null,
      "outputs": []
    },
    {
      "cell_type": "code",
      "metadata": {
        "id": "jK_DIZ_ArF50"
      },
      "source": [
        "# import sys\n",
        "# sys.path.append('/content/drive/MyDrive/10718_Fall21/')\n",
        "# # drive/MyDrive/10718_Fall21/"
      ],
      "execution_count": null,
      "outputs": []
    },
    {
      "cell_type": "markdown",
      "metadata": {
        "id": "jdHbEamHSiUl"
      },
      "source": [
        "**Best RandomForest before In Precessing**"
      ]
    },
    {
      "cell_type": "code",
      "metadata": {
        "id": "7mhrrnDHTiWO"
      },
      "source": [
        "def prk(df, k):\n",
        "  if k == 0.0:\n",
        "      precision, recall = 1, 0\n",
        "  else:\n",
        "      df.sort_values(by=['pred'], ascending = False, inplace = True)\n",
        "      br = df['fully_funded'].sum() / df.shape[0]\n",
        "      if k == 1.0:\n",
        "        precision, recall = br, 1\n",
        "      else:\n",
        "        sub = df.head(int(df.shape[0] * k)) # predict these as 1: not fully_funded, or 'f'\n",
        "        rem = df.tail(df.shape[0] - int(df.shape[0] * k))\n",
        "        tp = sub['fully_funded'].sum()\n",
        "        fp = sub.shape[0] - tp\n",
        "        fn = rem['fully_funded'].sum()\n",
        "        \n",
        "        precision = tp / (tp + fp)\n",
        "        recall = tp / (tp + fn)\n",
        "  # if k == 0.1:\n",
        "  #   print('@k={:.2f}, precision={:.3f}, recall={:.3f}'.format(k, precision, recall))\n",
        "  return precision, recall"
      ],
      "execution_count": null,
      "outputs": []
    },
    {
      "cell_type": "code",
      "metadata": {
        "colab": {
          "base_uri": "https://localhost:8080/",
          "height": 313
        },
        "id": "abOZTBBmR9bQ",
        "outputId": "00f9e569-527b-457a-aee2-dbbd13b9c984"
      },
      "source": [
        "from sklearn.ensemble import RandomForestClassifier\n",
        "\n",
        "from sklearn.metrics import roc_auc_score\n",
        "\n",
        "# read more about SGDClassifier() at http://scikit-learn.org/stable/modules/generated/sklearn.linear_model.SGDClassifier.html\n",
        "# \n",
        "train_auc = []\n",
        "cv_auc = []\n",
        "\n",
        "clf_rf = RandomForestClassifier(n_estimators = 50, min_samples_split=5, random_state=0)\n",
        "clf_rf.fit(x_train, Y_train)\n",
        "y_train_pred =  clf_rf.predict_proba(x_train)[:,1]\n",
        "y_test_pred =  clf_rf.predict_proba(x_test)[:,1]\n",
        "train_auc_score = roc_auc_score(Y_train,y_train_pred)\n",
        "train_auc.append((train_auc_score))\n",
        "cv_auc.append(roc_auc_score(Y_test, y_test_pred))\n",
        "print('train_auc_score = {:.5f}, validation_auc_score = {:.5f}'.format(train_auc_score,roc_auc_score(Y_test, y_test_pred)))\n",
        "\n",
        "y_score = pd.Series(y_test_pred)\n",
        "Y_test_np = Y_test.to_numpy()\n",
        "Y_test_pd = pd.Series(Y_test_np)\n",
        "combo = pd.concat([Y_test_pd, y_score], axis=1)\n",
        "combo.columns = ['fully_funded', 'pred']\n",
        "\n",
        "grid = np.arange(0,1.02,0.02)\n",
        "pre_log, rec_log = np.zeros_like(grid), np.zeros_like(grid)\n",
        "for i, k in enumerate(grid):\n",
        "  pre_log[i], rec_log[i] = prk(combo, k)\n",
        "  if k == 0.1:\n",
        "    print('precision @ k = {}'.format(pre_log[i]))\n",
        "\n",
        "# f, axs = plt.subplots(1,2,figsize=(15,5))\n",
        "# axs1 = axs[0]\n",
        "f, axs1 = plt.subplots()\n",
        "axs2 = axs1.twinx()\n",
        "axs1.plot(grid, pre_log, 'b', label = 'Precision')\n",
        "axs2.plot(grid, rec_log, 'r', label = 'Recall')\n",
        "axs1.set_ylabel('Precision', color = 'b')\n",
        "axs1.set_ylim(-0.05,1.05)\n",
        "axs2.set_ylabel('Recall', color = 'r')\n",
        "axs2.set_ylim(-0.05,1.05)\n",
        "axs1.set_xlabel('k: Percent of projects identified as 1: not fully funded')\n",
        "plt.show()"
      ],
      "execution_count": null,
      "outputs": [
        {
          "name": "stdout",
          "output_type": "stream",
          "text": [
            "train_auc_score = 0.99987, validation_auc_score = 0.80747\n",
            "precision @ k = 0.7825464949928469\n"
          ]
        },
        {
          "data": {
            "image/png": "[encoded data removed]",
            "text/plain": [
              "<Figure size 432x288 with 2 Axes>"
            ]
          },
          "metadata": {
            "needs_background": "light"
          },
          "output_type": "display_data"
        }
      ]
    },
    {
      "cell_type": "code",
      "metadata": {
        "colab": {
          "base_uri": "https://localhost:8080/"
        },
        "id": "h72AG8QjTe6Z",
        "outputId": "ca3f1725-4f47-4237-ab07-ddaba96176fd"
      },
      "source": [
        "print('percentage of 1: not fully funded = {}'.format(np.sum(Y_train.values) / np.size(Y_train.values)))"
      ],
      "execution_count": null,
      "outputs": [
        {
          "name": "stdout",
          "output_type": "stream",
          "text": [
            "percentage of 1: not fully funded = 0.4067988833313947\n"
          ]
        }
      ]
    },
    {
      "cell_type": "markdown",
      "metadata": {
        "id": "7-0MUWqXDl6T"
      },
      "source": [
        "## Disparity of vanilla model"
      ]
    },
    {
      "cell_type": "code",
      "metadata": {
        "id": "wpJ7An5sDl6T"
      },
      "source": [
        "# What's FNR here should be TPR, which we find to provide stronger distinction across groups\n",
        "def get_fnr_by_group(sensitive, labels, scores, k=0.1): \n",
        "    df_results = pd.DataFrame({'sensitive': sensitive,\n",
        "                             'label': labels,\n",
        "                             'score': scores})\n",
        "    df_results.sort_values(by=['score'], ascending = False, inplace = True)\n",
        "    pred_col = f'pred_@{k:.1f}'\n",
        "    df_results[pred_col] = 0\n",
        "    df_results.iloc[:int(len(df_results)*k)][pred_col] = 1\n",
        "    fnr_by_group = df_results.groupby(sensitive).apply(lambda df: get_fnr(df, pred=pred_col))\n",
        "    count_by_group = df_results.groupby(sensitive).size()\n",
        "    return pd.DataFrame({'tpr': fnr_by_group,\n",
        "                         'count': count_by_group})\n",
        "\n",
        "def get_fnr_disparity(sensitive, protected_attr,\n",
        "                      labels, scores, k=0.1): \n",
        "    assert protected_attr in sensitive.values\n",
        "    df_results = pd.DataFrame({'sensitive': sensitive,\n",
        "                             'label': labels,\n",
        "                             'score': scores})\n",
        "    df_results.sort_values(by=['score'], ascending = False, inplace = True)\n",
        "    pred_col = f'pred_@{k:.1f}'\n",
        "    df_results[pred_col] = 0\n",
        "    df_results.iloc[:int(len(df_results)*k)][pred_col] = 1\n",
        "    df_protected = df_results[(df_results.sensitive == protected_attr)]\n",
        "    df_others = df_results[(df_results.sensitive != protected_attr)]\n",
        "    fnr_protected = get_fnr(df_protected, pred=pred_col)\n",
        "    fnr_others = get_fnr(df_others, pred=pred_col)\n",
        "    return fnr_protected / fnr_others\n",
        "\n",
        "def get_fnr(df, label='label', pred='pred'): \n",
        "    return df[(df[label] == 1) & (df[pred] == 1)].shape[0] / df[(df[label] == 1)].shape[0]"
      ],
      "execution_count": null,
      "outputs": []
    },
    {
      "cell_type": "code",
      "metadata": {
        "id": "by_Zx9ExDl6U",
        "outputId": "1faa429b-38f6-4a2b-e77a-d4133a67b38a"
      },
      "source": [
        "# Difference in positive label across groups\n",
        "data_train.groupby('poverty_level').fully_funded.mean()"
      ],
      "execution_count": null,
      "outputs": [
        {
          "data": {
            "text/plain": [
              "poverty_level\n",
              "high poverty        0.423834\n",
              "highest poverty     0.385210\n",
              "low poverty         0.471646\n",
              "moderate poverty    0.445324\n",
              "Name: fully_funded, dtype: float64"
            ]
          },
          "execution_count": 80,
          "metadata": {},
          "output_type": "execute_result"
        }
      ]
    },
    {
      "cell_type": "code",
      "metadata": {
        "id": "vz2cKOCuDl6U",
        "outputId": "222736da-424c-4d6e-cbe6-ac03c443555a"
      },
      "source": [
        "data_train['low_poverty_level'] = data_train.poverty_level.apply(lambda x: 'low' if 'low' in x else 'not low')\n",
        "data_train.groupby('low_poverty_level').fully_funded.mean()"
      ],
      "execution_count": null,
      "outputs": [
        {
          "name": "stderr",
          "output_type": "stream",
          "text": [
            "<ipython-input-81-3c94eaf2922c>:1: SettingWithCopyWarning: \n",
            "A value is trying to be set on a copy of a slice from a DataFrame.\n",
            "Try using .loc[row_indexer,col_indexer] = value instead\n",
            "\n",
            "See the caveats in the documentation: https://pandas.pydata.org/pandas-docs/stable/user_guide/indexing.html#returning-a-view-versus-a-copy\n",
            "  data_train['low_poverty_level'] = data_train.poverty_level.apply(lambda x: 'low' if 'low' in x else 'not low')\n"
          ]
        },
        {
          "data": {
            "text/plain": [
              "low_poverty_level\n",
              "low        0.471646\n",
              "not low    0.405406\n",
              "Name: fully_funded, dtype: float64"
            ]
          },
          "execution_count": 81,
          "metadata": {},
          "output_type": "execute_result"
        }
      ]
    },
    {
      "cell_type": "code",
      "metadata": {
        "id": "6NYuhNdwDl6U",
        "outputId": "10222601-0fde-44eb-c4d4-5fa3baf6a08f"
      },
      "source": [
        "get_fnr_by_group(data_test['poverty_level'], Y_test, y_score)"
      ],
      "execution_count": null,
      "outputs": [
        {
          "name": "stderr",
          "output_type": "stream",
          "text": [
            "<ipython-input-79-db1be18702da>:9: SettingWithCopyWarning: \n",
            "A value is trying to be set on a copy of a slice from a DataFrame.\n",
            "Try using .loc[row_indexer,col_indexer] = value instead\n",
            "\n",
            "See the caveats in the documentation: https://pandas.pydata.org/pandas-docs/stable/user_guide/indexing.html#returning-a-view-versus-a-copy\n",
            "  df_results.iloc[:int(len(df_results)*k)][pred_col] = 1\n"
          ]
        },
        {
          "data": {
            "text/html": [
              "<div>\n",
              "<style scoped>\n",
              "    .dataframe tbody tr th:only-of-type {\n",
              "        vertical-align: middle;\n",
              "    }\n",
              "\n",
              "    .dataframe tbody tr th {\n",
              "        vertical-align: top;\n",
              "    }\n",
              "\n",
              "    .dataframe thead th {\n",
              "        text-align: right;\n",
              "    }\n",
              "</style>\n",
              "<table border=\"1\" class=\"dataframe\">\n",
              "  <thead>\n",
              "    <tr style=\"text-align: right;\">\n",
              "      <th></th>\n",
              "      <th>tpr</th>\n",
              "      <th>count</th>\n",
              "    </tr>\n",
              "    <tr>\n",
              "      <th>poverty_level</th>\n",
              "      <th></th>\n",
              "      <th></th>\n",
              "    </tr>\n",
              "  </thead>\n",
              "  <tbody>\n",
              "    <tr>\n",
              "      <th>high poverty</th>\n",
              "      <td>0.089646</td>\n",
              "      <td>1802</td>\n",
              "    </tr>\n",
              "    <tr>\n",
              "      <th>highest poverty</th>\n",
              "      <td>0.092212</td>\n",
              "      <td>4076</td>\n",
              "    </tr>\n",
              "    <tr>\n",
              "      <th>low poverty</th>\n",
              "      <td>0.142857</td>\n",
              "      <td>192</td>\n",
              "    </tr>\n",
              "    <tr>\n",
              "      <th>moderate poverty</th>\n",
              "      <td>0.090047</td>\n",
              "      <td>928</td>\n",
              "    </tr>\n",
              "  </tbody>\n",
              "</table>\n",
              "</div>"
            ],
            "text/plain": [
              "                       tpr  count\n",
              "poverty_level                    \n",
              "high poverty      0.089646   1802\n",
              "highest poverty   0.092212   4076\n",
              "low poverty       0.142857    192\n",
              "moderate poverty  0.090047    928"
            ]
          },
          "execution_count": 82,
          "metadata": {},
          "output_type": "execute_result"
        }
      ]
    },
    {
      "cell_type": "code",
      "metadata": {
        "id": "GHt01BW3Dl6V",
        "outputId": "4485df49-4867-4af8-f7d1-c1f93be537f9"
      },
      "source": [
        "data_test['low_poverty_level'] = data_test.poverty_level.apply(lambda x: 'low' if 'low' in x else 'not low')\n",
        "get_fnr_disparity(data_test['low_poverty_level'], 'low',\n",
        "                  Y_test, y_score)"
      ],
      "execution_count": null,
      "outputs": [
        {
          "name": "stderr",
          "output_type": "stream",
          "text": [
            "<ipython-input-83-e42a12aa051b>:1: SettingWithCopyWarning: \n",
            "A value is trying to be set on a copy of a slice from a DataFrame.\n",
            "Try using .loc[row_indexer,col_indexer] = value instead\n",
            "\n",
            "See the caveats in the documentation: https://pandas.pydata.org/pandas-docs/stable/user_guide/indexing.html#returning-a-view-versus-a-copy\n",
            "  data_test['low_poverty_level'] = data_test.poverty_level.apply(lambda x: 'low' if 'low' in x else 'not low')\n",
            "<ipython-input-79-db1be18702da>:24: SettingWithCopyWarning: \n",
            "A value is trying to be set on a copy of a slice from a DataFrame.\n",
            "Try using .loc[row_indexer,col_indexer] = value instead\n",
            "\n",
            "See the caveats in the documentation: https://pandas.pydata.org/pandas-docs/stable/user_guide/indexing.html#returning-a-view-versus-a-copy\n",
            "  df_results.iloc[:int(len(df_results)*k)][pred_col] = 1\n"
          ]
        },
        {
          "data": {
            "text/plain": [
              "1.5669816564758199"
            ]
          },
          "execution_count": 83,
          "metadata": {},
          "output_type": "execute_result"
        }
      ]
    },
    {
      "cell_type": "code",
      "metadata": {
        "id": "yE_5DXVqDl6V",
        "outputId": "684c0371-6a6f-4aa8-a50f-7733a32955db"
      },
      "source": [
        "data_test['is_female'] = data_test.teacher_prefix.apply(lambda x: 'female' if x in ['Mrs.', 'Ms.'] else 'nonfemale')\n",
        "get_fnr_disparity(data_test['is_female'], 'nonfemale',\n",
        "                  Y_test, y_score)"
      ],
      "execution_count": null,
      "outputs": [
        {
          "name": "stderr",
          "output_type": "stream",
          "text": [
            "<ipython-input-84-051a49a8d78f>:1: SettingWithCopyWarning: \n",
            "A value is trying to be set on a copy of a slice from a DataFrame.\n",
            "Try using .loc[row_indexer,col_indexer] = value instead\n",
            "\n",
            "See the caveats in the documentation: https://pandas.pydata.org/pandas-docs/stable/user_guide/indexing.html#returning-a-view-versus-a-copy\n",
            "  data_test['is_female'] = data_test.teacher_prefix.apply(lambda x: 'female' if x in ['Mrs.', 'Ms.'] else 'nonfemale')\n",
            "<ipython-input-79-db1be18702da>:24: SettingWithCopyWarning: \n",
            "A value is trying to be set on a copy of a slice from a DataFrame.\n",
            "Try using .loc[row_indexer,col_indexer] = value instead\n",
            "\n",
            "See the caveats in the documentation: https://pandas.pydata.org/pandas-docs/stable/user_guide/indexing.html#returning-a-view-versus-a-copy\n",
            "  df_results.iloc[:int(len(df_results)*k)][pred_col] = 1\n"
          ]
        },
        {
          "data": {
            "text/plain": [
              "0.9071900220102714"
            ]
          },
          "execution_count": 84,
          "metadata": {},
          "output_type": "execute_result"
        }
      ]
    },
    {
      "cell_type": "code",
      "metadata": {
        "id": "Kxg541wlDl6V"
      },
      "source": [
        ""
      ],
      "execution_count": null,
      "outputs": []
    },
    {
      "cell_type": "markdown",
      "metadata": {
        "id": "-3n_-P45Dl6V"
      },
      "source": [
        "### fairlearn ###"
      ]
    },
    {
      "cell_type": "code",
      "metadata": {
        "id": "3tfOt6BfDl6V",
        "outputId": "68b055c7-1e87-4af7-a691-2f29cf671aca"
      },
      "source": [
        "!pip install fairlearn"
      ],
      "execution_count": null,
      "outputs": [
        {
          "name": "stdout",
          "output_type": "stream",
          "text": [
            "Requirement already satisfied: fairlearn in c:\\users\\79368\\anaconda3\\lib\\site-packages (0.7.0)\n",
            "Requirement already satisfied: pandas>=0.25.1 in c:\\users\\79368\\anaconda3\\lib\\site-packages (from fairlearn) (1.0.5)\n",
            "Requirement already satisfied: scikit-learn>=0.22.1 in c:\\users\\79368\\anaconda3\\lib\\site-packages (from fairlearn) (0.23.1)\n",
            "Requirement already satisfied: numpy>=1.17.2 in c:\\users\\79368\\anaconda3\\lib\\site-packages (from fairlearn) (1.18.5)\n",
            "Requirement already satisfied: scipy>=1.4.1 in c:\\users\\79368\\anaconda3\\lib\\site-packages (from fairlearn) (1.5.0)\n",
            "Requirement already satisfied: pytz>=2017.2 in c:\\users\\79368\\anaconda3\\lib\\site-packages (from pandas>=0.25.1->fairlearn) (2020.1)\n",
            "Requirement already satisfied: python-dateutil>=2.6.1 in c:\\users\\79368\\anaconda3\\lib\\site-packages (from pandas>=0.25.1->fairlearn) (2.8.1)\n",
            "Requirement already satisfied: threadpoolctl>=2.0.0 in c:\\users\\79368\\anaconda3\\lib\\site-packages (from scikit-learn>=0.22.1->fairlearn) (2.1.0)\n",
            "Requirement already satisfied: joblib>=0.11 in c:\\users\\79368\\anaconda3\\lib\\site-packages (from scikit-learn>=0.22.1->fairlearn) (0.16.0)\n",
            "Requirement already satisfied: six>=1.5 in c:\\users\\79368\\anaconda3\\lib\\site-packages (from python-dateutil>=2.6.1->pandas>=0.25.1->fairlearn) (1.15.0)\n"
          ]
        }
      ]
    },
    {
      "cell_type": "code",
      "metadata": {
        "id": "hvEJ7npKDl6W",
        "outputId": "e18ce363-59d5-4e41-82e9-1b9b639c4227"
      },
      "source": [
        "data_train[\"low_poverty_level\"]"
      ],
      "execution_count": null,
      "outputs": [
        {
          "data": {
            "text/plain": [
              "79896     not low\n",
              "79898     not low\n",
              "79900     not low\n",
              "79903     not low\n",
              "79904     not low\n",
              "           ...   \n",
              "123163    not low\n",
              "123164    not low\n",
              "123166    not low\n",
              "123168    not low\n",
              "123169    not low\n",
              "Name: low_poverty_level, Length: 34388, dtype: object"
            ]
          },
          "execution_count": 56,
          "metadata": {},
          "output_type": "execute_result"
        }
      ]
    },
    {
      "cell_type": "code",
      "metadata": {
        "id": "8SVaKP-4Dl6W",
        "outputId": "3ab7835a-a6a7-4734-ccc6-61aef0fcb6fe"
      },
      "source": [
        "from sklearn.ensemble import RandomForestClassifier\n",
        "\n",
        "from sklearn.metrics import roc_auc_score\n",
        "from fairlearn.reductions import ExponentiatedGradient, DemographicParity, EqualizedOdds\n",
        "\n",
        "# read more about SGDClassifier() at http://scikit-learn.org/stable/modules/generated/sklearn.linear_model.SGDClassifier.html\n",
        "# \n",
        "train_auc = []\n",
        "cv_auc = []\n",
        "\n",
        "constraint = DemographicParity()\n",
        "clf_rf = RandomForestClassifier(n_estimators = 50, min_samples_split=5, random_state=0)\n",
        "# clf_rf.fit(x_train, Y_train)\n",
        "\n",
        "mitigator = ExponentiatedGradient(clf_rf, constraint)\n",
        "mitigator.fit(x_train, Y_train, sensitive_features=data_train[\"low_poverty_level\"])\n",
        "\n",
        "#y_train_pred =  mitigator.predictors_.predict_proba(x_train)[:,1]\n",
        "#y_test_pred =  mitigator.predictors_.predict_proba(x_test)[:,1]\n",
        "y_train_pred =  mitigator._pmf_predict(x_train)[:,1]\n",
        "y_test_pred =  mitigator._pmf_predict(x_test)[:,1]\n",
        "\n",
        "train_auc_score = roc_auc_score(Y_train,y_train_pred)\n",
        "train_auc.append((train_auc_score))\n",
        "cv_auc.append(roc_auc_score(Y_test, y_test_pred))\n",
        "print('train_auc_score = {:.5f}, validation_auc_score = {:.5f}'.format(train_auc_score,roc_auc_score(Y_test, y_test_pred)))\n",
        "\n",
        "y_score = pd.Series(y_test_pred)\n",
        "Y_test_np = Y_test.to_numpy()\n",
        "Y_test_pd = pd.Series(Y_test_np)\n",
        "combo = pd.concat([Y_test_pd, y_score], axis=1)\n",
        "combo.columns = ['fully_funded', 'pred']\n",
        "\n",
        "grid = np.arange(0,1.02,0.02)\n",
        "pre_log, rec_log = np.zeros_like(grid), np.zeros_like(grid)\n",
        "for i, k in enumerate(grid):\n",
        "  pre_log[i], rec_log[i] = prk(combo, k)\n",
        "  if k == 0.1:\n",
        "    print('precision @ k = {}'.format(pre_log[i]))\n",
        "\n",
        "# f, axs = plt.subplots(1,2,figsize=(15,5))\n",
        "# axs1 = axs[0]\n",
        "f, axs1 = plt.subplots()\n",
        "axs2 = axs1.twinx()\n",
        "axs1.plot(grid, pre_log, 'b', label = 'Precision')\n",
        "axs2.plot(grid, rec_log, 'r', label = 'Recall')\n",
        "axs1.set_ylabel('Precision', color = 'b')\n",
        "axs1.set_ylim(-0.05,1.05)\n",
        "axs2.set_ylabel('Recall', color = 'r')\n",
        "axs2.set_ylim(-0.05,1.05)\n",
        "axs1.set_xlabel('k: Percent of projects identified as 1: not fully funded')\n",
        "plt.show()"
      ],
      "execution_count": null,
      "outputs": [
        {
          "name": "stdout",
          "output_type": "stream",
          "text": [
            "train_auc_score = 0.99648, validation_auc_score = 0.75135\n",
            "precision @ k = 0.6909871244635193\n"
          ]
        },
        {
          "data": {
            "image/png": "[encoded data removed]",
            "text/plain": [
              "<Figure size 432x288 with 2 Axes>"
            ]
          },
          "metadata": {
            "needs_background": "light"
          },
          "output_type": "display_data"
        }
      ]
    },
    {
      "cell_type": "code",
      "metadata": {
        "id": "3CjZIldvDl6W",
        "outputId": "6b81a4d9-e45e-4fe6-9e87-ca7efcac77c4"
      },
      "source": [
        "get_fnr_by_group(data_test['poverty_level'], Y_test, y_score)"
      ],
      "execution_count": null,
      "outputs": [
        {
          "name": "stderr",
          "output_type": "stream",
          "text": [
            "<ipython-input-79-db1be18702da>:9: SettingWithCopyWarning: \n",
            "A value is trying to be set on a copy of a slice from a DataFrame.\n",
            "Try using .loc[row_indexer,col_indexer] = value instead\n",
            "\n",
            "See the caveats in the documentation: https://pandas.pydata.org/pandas-docs/stable/user_guide/indexing.html#returning-a-view-versus-a-copy\n",
            "  df_results.iloc[:int(len(df_results)*k)][pred_col] = 1\n"
          ]
        },
        {
          "data": {
            "text/html": [
              "<div>\n",
              "<style scoped>\n",
              "    .dataframe tbody tr th:only-of-type {\n",
              "        vertical-align: middle;\n",
              "    }\n",
              "\n",
              "    .dataframe tbody tr th {\n",
              "        vertical-align: top;\n",
              "    }\n",
              "\n",
              "    .dataframe thead th {\n",
              "        text-align: right;\n",
              "    }\n",
              "</style>\n",
              "<table border=\"1\" class=\"dataframe\">\n",
              "  <thead>\n",
              "    <tr style=\"text-align: right;\">\n",
              "      <th></th>\n",
              "      <th>tpr</th>\n",
              "      <th>count</th>\n",
              "    </tr>\n",
              "    <tr>\n",
              "      <th>poverty_level</th>\n",
              "      <th></th>\n",
              "      <th></th>\n",
              "    </tr>\n",
              "  </thead>\n",
              "  <tbody>\n",
              "    <tr>\n",
              "      <th>high poverty</th>\n",
              "      <td>0.078283</td>\n",
              "      <td>1802</td>\n",
              "    </tr>\n",
              "    <tr>\n",
              "      <th>highest poverty</th>\n",
              "      <td>0.107788</td>\n",
              "      <td>4076</td>\n",
              "    </tr>\n",
              "    <tr>\n",
              "      <th>low poverty</th>\n",
              "      <td>0.090909</td>\n",
              "      <td>192</td>\n",
              "    </tr>\n",
              "    <tr>\n",
              "      <th>moderate poverty</th>\n",
              "      <td>0.094787</td>\n",
              "      <td>928</td>\n",
              "    </tr>\n",
              "  </tbody>\n",
              "</table>\n",
              "</div>"
            ],
            "text/plain": [
              "                       tpr  count\n",
              "poverty_level                    \n",
              "high poverty      0.078283   1802\n",
              "highest poverty   0.107788   4076\n",
              "low poverty       0.090909    192\n",
              "moderate poverty  0.094787    928"
            ]
          },
          "execution_count": 93,
          "metadata": {},
          "output_type": "execute_result"
        }
      ]
    },
    {
      "cell_type": "code",
      "metadata": {
        "id": "bqxxWv8EDl6X",
        "outputId": "f5d90238-2e50-462e-9458-f9324f86feaf"
      },
      "source": [
        "data_test['low_poverty_level'] = data_test.poverty_level.apply(lambda x: 'low' if 'low' in x else 'not low')\n",
        "get_fnr_disparity(data_test['low_poverty_level'], 'low',\n",
        "                  Y_test, y_score)"
      ],
      "execution_count": null,
      "outputs": [
        {
          "name": "stderr",
          "output_type": "stream",
          "text": [
            "<ipython-input-94-e42a12aa051b>:1: SettingWithCopyWarning: \n",
            "A value is trying to be set on a copy of a slice from a DataFrame.\n",
            "Try using .loc[row_indexer,col_indexer] = value instead\n",
            "\n",
            "See the caveats in the documentation: https://pandas.pydata.org/pandas-docs/stable/user_guide/indexing.html#returning-a-view-versus-a-copy\n",
            "  data_test['low_poverty_level'] = data_test.poverty_level.apply(lambda x: 'low' if 'low' in x else 'not low')\n",
            "<ipython-input-79-db1be18702da>:24: SettingWithCopyWarning: \n",
            "A value is trying to be set on a copy of a slice from a DataFrame.\n",
            "Try using .loc[row_indexer,col_indexer] = value instead\n",
            "\n",
            "See the caveats in the documentation: https://pandas.pydata.org/pandas-docs/stable/user_guide/indexing.html#returning-a-view-versus-a-copy\n",
            "  df_results.iloc[:int(len(df_results)*k)][pred_col] = 1\n"
          ]
        },
        {
          "data": {
            "text/plain": [
              "0.931900826446281"
            ]
          },
          "execution_count": 94,
          "metadata": {},
          "output_type": "execute_result"
        }
      ]
    },
    {
      "cell_type": "code",
      "metadata": {
        "id": "5UZmTdr5Dl6X"
      },
      "source": [
        ""
      ],
      "execution_count": null,
      "outputs": []
    },
    {
      "cell_type": "code",
      "metadata": {
        "id": "Cq4WWQfZDl6X",
        "outputId": "8d49e2fb-f968-4bbb-cc63-d0f03951275b"
      },
      "source": [
        "from sklearn.ensemble import RandomForestClassifier\n",
        "\n",
        "from sklearn.metrics import roc_auc_score\n",
        "from fairlearn.reductions import ExponentiatedGradient, DemographicParity, EqualizedOdds\n",
        "\n",
        "# read more about SGDClassifier() at http://scikit-learn.org/stable/modules/generated/sklearn.linear_model.SGDClassifier.html\n",
        "# \n",
        "train_auc = []\n",
        "cv_auc = []\n",
        "\n",
        "constraint = EqualizedOdds()\n",
        "clf_rf = RandomForestClassifier(n_estimators = 50, min_samples_split=5, random_state=0)\n",
        "# clf_rf.fit(x_train, Y_train)\n",
        "\n",
        "mitigator = ExponentiatedGradient(clf_rf, constraint)\n",
        "mitigator.fit(x_train, Y_train, sensitive_features=data_train[\"low_poverty_level\"])\n",
        "\n",
        "#y_train_pred =  mitigator.predictors_.predict_proba(x_train)[:,1]\n",
        "#y_test_pred =  mitigator.predictors_.predict_proba(x_test)[:,1]\n",
        "y_train_pred =  mitigator._pmf_predict(x_train)[:,1]\n",
        "y_test_pred =  mitigator._pmf_predict(x_test)[:,1]\n",
        "\n",
        "train_auc_score = roc_auc_score(Y_train,y_train_pred)\n",
        "train_auc.append((train_auc_score))\n",
        "cv_auc.append(roc_auc_score(Y_test, y_test_pred))\n",
        "print('train_auc_score = {:.5f}, validation_auc_score = {:.5f}'.format(train_auc_score,roc_auc_score(Y_test, y_test_pred)))\n",
        "\n",
        "y_score = pd.Series(y_test_pred)\n",
        "Y_test_np = Y_test.to_numpy()\n",
        "Y_test_pd = pd.Series(Y_test_np)\n",
        "combo = pd.concat([Y_test_pd, y_score], axis=1)\n",
        "combo.columns = ['fully_funded', 'pred']\n",
        "\n",
        "grid = np.arange(0,1.02,0.02)\n",
        "pre_log, rec_log = np.zeros_like(grid), np.zeros_like(grid)\n",
        "for i, k in enumerate(grid):\n",
        "  pre_log[i], rec_log[i] = prk(combo, k)\n",
        "  if k == 0.1:\n",
        "    print('precision @ k = {}'.format(pre_log[i]))\n",
        "\n",
        "# f, axs = plt.subplots(1,2,figsize=(15,5))\n",
        "# axs1 = axs[0]\n",
        "f, axs1 = plt.subplots()\n",
        "axs2 = axs1.twinx()\n",
        "axs1.plot(grid, pre_log, 'b', label = 'Precision')\n",
        "axs2.plot(grid, rec_log, 'r', label = 'Recall')\n",
        "axs1.set_ylabel('Precision', color = 'b')\n",
        "axs1.set_ylim(-0.05,1.05)\n",
        "axs2.set_ylabel('Recall', color = 'r')\n",
        "axs2.set_ylim(-0.05,1.05)\n",
        "axs1.set_xlabel('k: Percent of projects identified as 1: not fully funded')\n",
        "plt.show()"
      ],
      "execution_count": null,
      "outputs": [
        {
          "name": "stdout",
          "output_type": "stream",
          "text": [
            "train_auc_score = 0.99389, validation_auc_score = 0.72711\n",
            "precision @ k = 0.6452074391988555\n"
          ]
        },
        {
          "data": {
            "image/png": "[encoded data removed]",
            "text/plain": [
              "<Figure size 432x288 with 2 Axes>"
            ]
          },
          "metadata": {
            "needs_background": "light"
          },
          "output_type": "display_data"
        }
      ]
    },
    {
      "cell_type": "code",
      "metadata": {
        "id": "o5YhdXChDl6X",
        "outputId": "9e326036-a24b-44b5-a35f-27beadbe2206"
      },
      "source": [
        "get_fnr_by_group(data_test['poverty_level'], Y_test, y_score)"
      ],
      "execution_count": null,
      "outputs": [
        {
          "name": "stderr",
          "output_type": "stream",
          "text": [
            "<ipython-input-79-db1be18702da>:9: SettingWithCopyWarning: \n",
            "A value is trying to be set on a copy of a slice from a DataFrame.\n",
            "Try using .loc[row_indexer,col_indexer] = value instead\n",
            "\n",
            "See the caveats in the documentation: https://pandas.pydata.org/pandas-docs/stable/user_guide/indexing.html#returning-a-view-versus-a-copy\n",
            "  df_results.iloc[:int(len(df_results)*k)][pred_col] = 1\n"
          ]
        },
        {
          "data": {
            "text/html": [
              "<div>\n",
              "<style scoped>\n",
              "    .dataframe tbody tr th:only-of-type {\n",
              "        vertical-align: middle;\n",
              "    }\n",
              "\n",
              "    .dataframe tbody tr th {\n",
              "        vertical-align: top;\n",
              "    }\n",
              "\n",
              "    .dataframe thead th {\n",
              "        text-align: right;\n",
              "    }\n",
              "</style>\n",
              "<table border=\"1\" class=\"dataframe\">\n",
              "  <thead>\n",
              "    <tr style=\"text-align: right;\">\n",
              "      <th></th>\n",
              "      <th>tpr</th>\n",
              "      <th>count</th>\n",
              "    </tr>\n",
              "    <tr>\n",
              "      <th>poverty_level</th>\n",
              "      <th></th>\n",
              "      <th></th>\n",
              "    </tr>\n",
              "  </thead>\n",
              "  <tbody>\n",
              "    <tr>\n",
              "      <th>high poverty</th>\n",
              "      <td>0.077020</td>\n",
              "      <td>1802</td>\n",
              "    </tr>\n",
              "    <tr>\n",
              "      <th>highest poverty</th>\n",
              "      <td>0.106542</td>\n",
              "      <td>4076</td>\n",
              "    </tr>\n",
              "    <tr>\n",
              "      <th>low poverty</th>\n",
              "      <td>0.038961</td>\n",
              "      <td>192</td>\n",
              "    </tr>\n",
              "    <tr>\n",
              "      <th>moderate poverty</th>\n",
              "      <td>0.082938</td>\n",
              "      <td>928</td>\n",
              "    </tr>\n",
              "  </tbody>\n",
              "</table>\n",
              "</div>"
            ],
            "text/plain": [
              "                       tpr  count\n",
              "poverty_level                    \n",
              "high poverty      0.077020   1802\n",
              "highest poverty   0.106542   4076\n",
              "low poverty       0.038961    192\n",
              "moderate poverty  0.082938    928"
            ]
          },
          "execution_count": 96,
          "metadata": {},
          "output_type": "execute_result"
        }
      ]
    },
    {
      "cell_type": "code",
      "metadata": {
        "id": "apz5Plv4Dl6X",
        "outputId": "6fab36ee-54bb-4ade-ecbb-42a0117cee49"
      },
      "source": [
        "data_test['low_poverty_level'] = data_test.poverty_level.apply(lambda x: 'low' if 'low' in x else 'not low')\n",
        "get_fnr_disparity(data_test['low_poverty_level'], 'low',\n",
        "                  Y_test, y_score)"
      ],
      "execution_count": null,
      "outputs": [
        {
          "name": "stderr",
          "output_type": "stream",
          "text": [
            "<ipython-input-97-e42a12aa051b>:1: SettingWithCopyWarning: \n",
            "A value is trying to be set on a copy of a slice from a DataFrame.\n",
            "Try using .loc[row_indexer,col_indexer] = value instead\n",
            "\n",
            "See the caveats in the documentation: https://pandas.pydata.org/pandas-docs/stable/user_guide/indexing.html#returning-a-view-versus-a-copy\n",
            "  data_test['low_poverty_level'] = data_test.poverty_level.apply(lambda x: 'low' if 'low' in x else 'not low')\n",
            "<ipython-input-79-db1be18702da>:24: SettingWithCopyWarning: \n",
            "A value is trying to be set on a copy of a slice from a DataFrame.\n",
            "Try using .loc[row_indexer,col_indexer] = value instead\n",
            "\n",
            "See the caveats in the documentation: https://pandas.pydata.org/pandas-docs/stable/user_guide/indexing.html#returning-a-view-versus-a-copy\n",
            "  df_results.iloc[:int(len(df_results)*k)][pred_col] = 1\n"
          ]
        },
        {
          "data": {
            "text/plain": [
              "0.4113526922515687"
            ]
          },
          "execution_count": 97,
          "metadata": {},
          "output_type": "execute_result"
        }
      ]
    },
    {
      "cell_type": "code",
      "metadata": {
        "id": "KxsyNA4CDl6Y"
      },
      "source": [
        ""
      ],
      "execution_count": null,
      "outputs": []
    },
    {
      "cell_type": "code",
      "metadata": {
        "id": "rFRS8y3uDl6Y"
      },
      "source": [
        ""
      ],
      "execution_count": null,
      "outputs": []
    },
    {
      "cell_type": "code",
      "metadata": {
        "id": "RR9aRq4CDl6Y"
      },
      "source": [
        ""
      ],
      "execution_count": null,
      "outputs": []
    },
    {
      "cell_type": "code",
      "metadata": {
        "id": "ehBoGstJDl6Y"
      },
      "source": [
        ""
      ],
      "execution_count": null,
      "outputs": []
    },
    {
      "cell_type": "code",
      "metadata": {
        "id": "u91mYbarDl6Y"
      },
      "source": [
        ""
      ],
      "execution_count": null,
      "outputs": []
    },
    {
      "cell_type": "code",
      "metadata": {
        "id": "Gw0Q4QHqDl6Y"
      },
      "source": [
        ""
      ],
      "execution_count": null,
      "outputs": []
    },
    {
      "cell_type": "code",
      "metadata": {
        "id": "ZHb1yFlLDl6Z"
      },
      "source": [
        ""
      ],
      "execution_count": null,
      "outputs": []
    },
    {
      "cell_type": "code",
      "metadata": {
        "id": "8018hAbVDl6Z"
      },
      "source": [
        ""
      ],
      "execution_count": null,
      "outputs": []
    },
    {
      "cell_type": "code",
      "metadata": {
        "id": "X7XwBP6LDl6Z"
      },
      "source": [
        ""
      ],
      "execution_count": null,
      "outputs": []
    },
    {
      "cell_type": "code",
      "metadata": {
        "id": "7RSgsJ4hDl6Z"
      },
      "source": [
        ""
      ],
      "execution_count": null,
      "outputs": []
    },
    {
      "cell_type": "markdown",
      "metadata": {
        "id": "zThafYEKDl6Z"
      },
      "source": [
        "## What we need is to make sure the proportion of label \"1\" in \"not low\" poverty level matches that in \"low\" poverty level\n",
        "\n",
        "**Methods to achieve it**\n",
        "1. Oversampling: \n",
        "    - Oversample label \"1\"'s from \"not low\" poverty level\n",
        "    - Oversample label \"0\"'s from \"low\" poverty level\n",
        "2. Undersampling: \n",
        "    - Undersample label \"0\"'s from \"not low\"\n",
        "    - Undersample label \"1\" from \"low\""
      ]
    },
    {
      "cell_type": "code",
      "metadata": {
        "id": "pR0I_BgvDl6Z"
      },
      "source": [
        "def oversample_label_from_feature(df, label, label_value, feature, feature_value): \n",
        "    assert isinstance(label_value, int) and isinstance(feature_value, int)\n",
        "    not_feature_not_label_query = f'{label} != {label_value} and {feature} != {feature_value}'\n",
        "    feature_not_label_query = f'{label} != {label_value} and {feature} == {feature_value}'\n",
        "    feature_label_query = f'{label} == {label_value} and {feature} == {feature_value}'\n",
        "    \n",
        "    feature_query = f'{feature} == {feature_value}'\n",
        "    not_feature_query = f'{feature} != {feature_value}'\n",
        "    \n",
        "    not_feature_not_label_pct = (df.query(not_feature_not_label_query).shape[0] / \n",
        "                                 df.query(not_feature_query).shape[0])\n",
        "    feature_not_label_size = df.query(feature_not_label_query).shape[0]\n",
        "    print(feature_not_label_query)\n",
        "    print(feature_not_label_size)\n",
        "    \n",
        "    feature_size_before_oversampling = df.query(feature_query).shape[0]\n",
        "    feature_size_after_oversampling = feature_not_label_size / not_feature_not_label_pct\n",
        "    \n",
        "    feature_label_oversampling_size = int(feature_size_after_oversampling - feature_size_before_oversampling)\n",
        "    print(feature_label_oversampling_size)\n",
        "    oversampled_rows = df.query(feature_label_query).sample(n=feature_label_oversampling_size)\n",
        "    \n",
        "    df_oversampled = pd.concat([df, oversampled_rows])\n",
        "    return df_oversampled    "
      ],
      "execution_count": null,
      "outputs": []
    },
    {
      "cell_type": "code",
      "metadata": {
        "id": "_ha43iw5Dl6Z"
      },
      "source": [
        "from sklearn.ensemble import RandomForestClassifier\n",
        "\n",
        "from sklearn.metrics import roc_auc_score\n",
        "\n",
        "def train_rf_clf(X, y, visualize=False): \n",
        "\n",
        "    # read more about SGDClassifier() at http://scikit-learn.org/stable/modules/generated/sklearn.linear_model.SGDClassifier.html\n",
        "    # \n",
        "    train_auc = []\n",
        "    cv_auc = []\n",
        "\n",
        "    clf_rf = RandomForestClassifier(n_estimators = 500, min_samples_split=5, random_state=0)\n",
        "    clf_rf.fit(X, \n",
        "               y)\n",
        "    y_train_pred =  clf_rf.predict_proba(x_train)[:,1]\n",
        "    y_test_pred =  clf_rf.predict_proba(x_test)[:,1]\n",
        "    train_auc_score = roc_auc_score(Y_train,y_train_pred)\n",
        "    train_auc.append((train_auc_score))\n",
        "    cv_auc.append(roc_auc_score(Y_test, y_test_pred))\n",
        "    print('train_auc_score = {:.5f}, validation_auc_score = {:.5f}'.format(train_auc_score,roc_auc_score(Y_test, y_test_pred)))\n",
        "\n",
        "    y_score = pd.Series(y_test_pred)\n",
        "    Y_test_np = Y_test.to_numpy()\n",
        "    Y_test_pd = pd.Series(Y_test_np)\n",
        "    combo = pd.concat([Y_test_pd, y_score], axis=1)\n",
        "    combo.columns = ['fully_funded', 'pred']\n",
        "\n",
        "    grid = np.arange(0,1.02,0.02)\n",
        "    pre_log, rec_log = np.zeros_like(grid), np.zeros_like(grid)\n",
        "    for i, k in enumerate(grid):\n",
        "      pre_log[i], rec_log[i] = prk(combo, k)\n",
        "      if k == 0.1:\n",
        "        print('precision @ k = {}'.format(pre_log[i]))\n",
        "        prec_k = pre_log[i]\n",
        "\n",
        "    # f, axs = plt.subplots(1,2,figsize=(15,5))\n",
        "    # axs1 = axs[0]\n",
        "    if visualize: \n",
        "        f, axs1 = plt.subplots()\n",
        "        axs2 = axs1.twinx()\n",
        "        axs1.plot(grid, pre_log, 'b', label = 'Precision')\n",
        "        axs2.plot(grid, rec_log, 'r', label = 'Recall')\n",
        "        axs1.set_ylabel('Precision', color = 'b')\n",
        "        axs1.set_ylim(-0.05,1.05)\n",
        "        axs2.set_ylabel('Recall', color = 'r')\n",
        "        axs2.set_ylim(-0.05,1.05)\n",
        "        axs1.set_xlabel('k: Percent of projects identified as 1: not fully funded')\n",
        "        plt.show()\n",
        "    \n",
        "    return y_score, prec_k"
      ],
      "execution_count": null,
      "outputs": []
    },
    {
      "cell_type": "code",
      "metadata": {
        "id": "FQOiX-pCDl6a"
      },
      "source": [
        "def undersample_label_from_feature(df, label, label_value, feature, feature_value): \n",
        "    assert isinstance(label_value, int) and isinstance(feature_value, int)\n",
        "    not_feature_not_label_query = f'{label} != {label_value} and {feature} != {feature_value}'\n",
        "    feature_not_label_query = f'{label} != {label_value} and {feature} == {feature_value}'\n",
        "    feature_label_query = f'{label} == {label_value} and {feature} == {feature_value}'\n",
        "    \n",
        "    feature_query = f'{feature} == {feature_value}'\n",
        "    not_feature_query = f'{feature} != {feature_value}'\n",
        "    \n",
        "    not_feature_not_label_pct = (df.query(not_feature_not_label_query).shape[0] / \n",
        "                                 df.query(not_feature_query).shape[0])\n",
        "    feature_not_label_size = df.query(feature_not_label_query).shape[0]\n",
        "    \n",
        "    feature_size_before_undersampling = df.query(feature_query).shape[0]\n",
        "    feature_size_after_undersampling = feature_not_label_size / not_feature_not_label_pct\n",
        "    \n",
        "    feature_label_undersampling_size = int(feature_size_before_undersampling - feature_size_after_undersampling)\n",
        "    undersampled_rows = df.query(feature_label_query).sample(n=feature_label_undersampling_size)\n",
        "    \n",
        "    df_undersampled = df.drop(undersampled_rows.index)\n",
        "    return df_undersampled    "
      ],
      "execution_count": null,
      "outputs": []
    },
    {
      "cell_type": "markdown",
      "metadata": {
        "id": "SlEMUmr-Dl6a"
      },
      "source": [
        "# More rigorously, just implement the uniform resampling algorithm"
      ]
    },
    {
      "cell_type": "code",
      "metadata": {
        "id": "rA2blp_3Dl6a"
      },
      "source": [
        "def uniform_sampling_label_from_feature(df, label, feature):     \n",
        "    all_sampled = []\n",
        "    data_size = df.shape[0]\n",
        "    for feature_value in [0, 1]: \n",
        "        for label_value in [0, 1]: \n",
        "            feature_size = df.query(f'{feature} == {feature_value}').shape[0]\n",
        "            label_size = df.query(f'{label} == {label_value}').shape[0]\n",
        "            feature_label_size = df.query(f'{feature} == {feature_value} and {label} == {label_value}').shape[0]\n",
        "            W = (feature_size * label_size) / (data_size * feature_label_size)\n",
        "            \n",
        "            all_sampled.append(df\n",
        "                               .query(f'{feature} == {feature_value} and {label} == {label_value}')\n",
        "                               .sample(frac=W, replace=True))\n",
        "    return pd.concat(all_sampled)"
      ],
      "execution_count": null,
      "outputs": []
    },
    {
      "cell_type": "markdown",
      "metadata": {
        "id": "itETAuWpDl6a"
      },
      "source": [
        "# Up Next\n",
        "\n",
        "Go through the following sampling choices: \n",
        "1. Vanilla\n",
        "2. Oversample specific label\n",
        "3. Undersample specific label\n",
        "4. Uniformly sample\n",
        "5. Overall oversample\n",
        "6. Overall undersample"
      ]
    },
    {
      "cell_type": "markdown",
      "metadata": {
        "id": "zB8IFN_cDl6a"
      },
      "source": [
        "## What we need is to make sure the proportion of label \"1\" in \"not low\" poverty level matches that in \"low\" poverty level\n",
        "\n",
        "**Methods to achieve it**\n",
        "1. Oversampling: \n",
        "    - Oversample label \"1\"'s from \"not low\" poverty level\n",
        "    - Oversample label \"0\"'s from \"low\" poverty level\n",
        "2. Undersampling: \n",
        "    - Undersample label \"0\"'s from \"not low\"\n",
        "    - Undersample label \"1\" from \"low\"\n",
        "3. Uniform sampling\n",
        "4. Oversample to balanced label ratio\n",
        "5. Undersample to balanced label ratio"
      ]
    },
    {
      "cell_type": "code",
      "metadata": {
        "id": "ix3vxSLlDl6a"
      },
      "source": [
        "sampling_strategies = dict(\n",
        "    vanilla=lambda df, x, y: df,\n",
        "    oversample_fully_funded_1_low_poverty_0=lambda df, x, y: oversample_label_from_feature(df, \n",
        "                                                                                     'fully_funded', 1, \n",
        "                                                                                     'low_poverty', 0),\n",
        "    oversample_fully_funded_0_low_poverty_1=lambda df, x, y: oversample_label_from_feature(df, \n",
        "                                                                                     'fully_funded', 0, \n",
        "                                                                                     'low_poverty', 1),\n",
        "    undersample_fully_funded_0_low_poverty_0=lambda df, x, y: undersample_label_from_feature(df, \n",
        "                                                                                     'fully_funded', 0, \n",
        "                                                                                     'low_poverty', 0),\n",
        "    undersample_fully_funded_1_low_poverty_1=lambda df, x, y: undersample_label_from_feature(df, \n",
        "                                                                                     'fully_funded', 1, \n",
        "                                                                                     'low_poverty', 1),\n",
        "    uniform_sampling=lambda df, x, y: uniform_sampling_label_from_feature(df, 'fully_funded', 'low_poverty'),\n",
        "    oversample_fully_funded_balanced=lambda df, x, y: (RandomOverSampler(sampling_strategy=1)\n",
        "                                                       .fit_resample(x.values, y.values)),\n",
        "    undersample_fully_funded_balanced=lambda df, x, y: (RandomUnderSampler(sampling_strategy=1)\n",
        "                                                       .fit_resample(x.values, y.values)),\n",
        ")"
      ],
      "execution_count": null,
      "outputs": []
    },
    {
      "cell_type": "code",
      "metadata": {
        "id": "SsJvN2cnDl6a"
      },
      "source": [
        "start = 2\n",
        "n_samples = 10\n",
        "for strategy_name, strategy_func in sampling_strategies.items(): \n",
        "    if strategy_name == \"vanilla\": continue\n",
        "    for i in range(start, start + n_samples): \n",
        "        print(strategy_name, i)\n",
        "        if 'balanced' in strategy_name: \n",
        "            x_train_resampled, y_train_resampled = strategy_func(data_train, x_train, Y_train)\n",
        "        else: \n",
        "            data_train_resampled = strategy_func(data_train, x_train, Y_train)\n",
        "            x_train_resampled, y_train_resampled = (x_train.loc[data_train_resampled.index], \n",
        "                                                    Y_train.loc[data_train_resampled.index])\n",
        "        y_score, prec_k = train_rf_clf(x_train_resampled, y_train_resampled, visualize=False)\n",
        "        disparity = get_fnr_disparity(data_test['low_poverty_level'], 'low',\n",
        "                          Y_test, y_score)\n",
        "        results_new.append({'strategy': strategy_name,\n",
        "                            'sample_id': i,\n",
        "                            'precision@0.1': prec_k,\n",
        "                            'disparity': disparity})"
      ],
      "execution_count": null,
      "outputs": []
    },
    {
      "cell_type": "code",
      "metadata": {
        "id": "14v-V_ifDl6b"
      },
      "source": [
        "sampling_strategy_types = dict(\n",
        "    vanilla='vanilla',\n",
        "    oversample_fully_funded_1_low_poverty_0='oversample',\n",
        "    oversample_fully_funded_0_low_poverty_1='oversample',\n",
        "    undersample_fully_funded_0_low_poverty_0='undersample',\n",
        "    undersample_fully_funded_1_low_poverty_1='undersample',\n",
        "    uniform_sampling='uniform_sampling',\n",
        "    oversample_fully_funded_balanced='oversample_balanced',\n",
        "    undersample_fully_funded_balanced='undersample_balanced',\n",
        ")\n",
        "color_map = {'vanilla': 'red',\n",
        "             'oversample': 'blue',\n",
        "             'undersample': 'green',\n",
        "             'uniform_sampling': 'purple',\n",
        "             'oversample_balanced': 'orange',\n",
        "             'undersample_balanced': 'yellow'}"
      ],
      "execution_count": null,
      "outputs": []
    },
    {
      "cell_type": "code",
      "metadata": {
        "id": "IHi7cILaDl6b"
      },
      "source": [
        "df_results = pd.DataFrame(results_new)\n",
        "df_results['strategy_type'] = df_results['strategy'].apply(sampling_strategy_types.get)"
      ],
      "execution_count": null,
      "outputs": []
    },
    {
      "cell_type": "code",
      "metadata": {
        "id": "-W7v4TP0Dl6b",
        "outputId": "6a0953e7-efd2-46b5-98dc-f3afedeae9ca"
      },
      "source": [
        "plt.figure(figsize=(8, 6))\n",
        "for strategy_type, df in df_results.groupby('strategy_type'): \n",
        "    plt.scatter(df['precision@0.1'], df['disparity'], c=color_map[strategy_type], label=strategy_type)\n",
        "plt.legend(loc=2)"
      ],
      "execution_count": null,
      "outputs": [
        {
          "data": {
            "text/plain": [
              "<matplotlib.legend.Legend at 0x7f93a62aa050>"
            ]
          },
          "execution_count": 258,
          "metadata": {},
          "output_type": "execute_result"
        },
        {
          "data": {
            "image/png": "[encoded data removed]",
            "text/plain": [
              "<Figure size 576x432 with 1 Axes>"
            ]
          },
          "metadata": {
            "needs_background": "light"
          },
          "output_type": "display_data"
        }
      ]
    },
    {
      "cell_type": "code",
      "metadata": {
        "id": "WkMBZRP7Dl6b",
        "outputId": "3a3d0c99-5024-4e2d-ff1e-d370cf9d1532"
      },
      "source": [
        "sns.set(rc = {'figure.figsize':(15,8)})\n",
        "sns.boxplot(x='strategy', y='disparity', data=df_results)\n",
        "plt.xticks(rotation=45)"
      ],
      "execution_count": null,
      "outputs": [
        {
          "data": {
            "text/plain": [
              "(array([0, 1, 2, 3, 4, 5, 6, 7]),\n",
              " [Text(0, 0, 'vanilla'),\n",
              "  Text(1, 0, 'oversample_fully_funded_1_low_poverty_0'),\n",
              "  Text(2, 0, 'oversample_fully_funded_0_low_poverty_1'),\n",
              "  Text(3, 0, 'undersample_fully_funded_0_low_poverty_0'),\n",
              "  Text(4, 0, 'undersample_fully_funded_1_low_poverty_1'),\n",
              "  Text(5, 0, 'uniform_sampling'),\n",
              "  Text(6, 0, 'oversample_fully_funded_balanced'),\n",
              "  Text(7, 0, 'undersample_fully_funded_balanced')])"
            ]
          },
          "execution_count": 261,
          "metadata": {},
          "output_type": "execute_result"
        },
        {
          "data": {
            "image/png": "[encoded data removed]",
            "text/plain": [
              "<Figure size 1080x576 with 1 Axes>"
            ]
          },
          "metadata": {},
          "output_type": "display_data"
        }
      ]
    },
    {
      "cell_type": "markdown",
      "metadata": {
        "id": "ZkaPQlv2Dl6b"
      },
      "source": [
        "# Finished"
      ]
    },
    {
      "cell_type": "code",
      "metadata": {
        "id": "2QMZ5WzGVJIU"
      },
      "source": [
        "from imblearn.pipeline import Pipeline\n",
        "from imblearn.over_sampling import RandomOverSampler\n",
        "from imblearn.under_sampling import RandomUnderSampler"
      ],
      "execution_count": null,
      "outputs": []
    },
    {
      "cell_type": "markdown",
      "metadata": {
        "id": "Zl_TyC0sag-X"
      },
      "source": [
        "**Oversampling followed by under sampling**"
      ]
    },
    {
      "cell_type": "code",
      "metadata": {
        "colab": {
          "base_uri": "https://localhost:8080/"
        },
        "id": "RpVbLAPNVN8E",
        "outputId": "b0f457ca-1834-4f88-dc99-468f93b81bb0"
      },
      "source": [
        "over = RandomOverSampler(sampling_strategy=0.85)\n",
        "under = RandomUnderSampler(sampling_strategy= 1)\n",
        "pipeline = Pipeline(steps=[('o', over), ('u', under)])\n",
        "x_train_resampled, Y_train_resampled = under.fit_resample(x_train.values, Y_train.values)\n",
        "print('after resampling: percentage of 1: not fully funded = {}'.format(np.sum(Y_train_resampled) / np.size(Y_train_resampled)))"
      ],
      "execution_count": null,
      "outputs": [
        {
          "name": "stdout",
          "output_type": "stream",
          "text": [
            "after resampling: percentage of 1: not fully funded = 0.5\n"
          ]
        }
      ]
    },
    {
      "cell_type": "code",
      "metadata": {
        "id": "-Kqz-O4vDl6c",
        "outputId": "19961cf9-fbfa-4aa0-c82f-eac28ed7bfde"
      },
      "source": [
        "under.sample_indices_"
      ],
      "execution_count": null,
      "outputs": [
        {
          "data": {
            "text/plain": [
              "array([ 4678,   815, 30567, ..., 37735, 37736, 37737])"
            ]
          },
          "execution_count": 208,
          "metadata": {},
          "output_type": "execute_result"
        }
      ]
    },
    {
      "cell_type": "code",
      "metadata": {
        "colab": {
          "base_uri": "https://localhost:8080/",
          "height": 313
        },
        "id": "AXulBJDrfHlt",
        "outputId": "a4afbc4d-53bd-464b-8e50-68ea02dd7a83"
      },
      "source": [
        "from sklearn.ensemble import RandomForestClassifier\n",
        "\n",
        "from sklearn.metrics import roc_auc_score\n",
        "\n",
        "# read more about SGDClassifier() at http://scikit-learn.org/stable/modules/generated/sklearn.linear_model.SGDClassifier.html\n",
        "# \n",
        "train_auc = []\n",
        "cv_auc = []\n",
        "\n",
        "clf_rf = RandomForestClassifier(n_estimators = 500, min_samples_split=5, random_state=0)\n",
        "clf_rf.fit(x_train_resampled, Y_train_resampled)\n",
        "y_train_pred =  clf_rf.predict_proba(x_train_resampled)[:,1]\n",
        "y_test_pred =  clf_rf.predict_proba(x_test)[:,1]\n",
        "train_auc_score = roc_auc_score(Y_train_resampled,y_train_pred)\n",
        "train_auc.append((train_auc_score))\n",
        "cv_auc.append(roc_auc_score(Y_test, y_test_pred))\n",
        "print('train_auc_score = {:.5f}, validation_auc_score = {:.5f}'.format(train_auc_score,roc_auc_score(Y_test, y_test_pred)))\n",
        "\n",
        "y_score = pd.Series(y_test_pred)\n",
        "Y_test_np = Y_test.to_numpy()\n",
        "Y_test_pd = pd.Series(Y_test_np)\n",
        "combo = pd.concat([Y_test_pd, y_score], axis=1)\n",
        "combo.columns = ['fully_funded', 'pred']\n",
        "\n",
        "grid = np.arange(0,1.02,0.02)\n",
        "pre_log, rec_log = np.zeros_like(grid), np.zeros_like(grid)\n",
        "for i, k in enumerate(grid):\n",
        "  pre_log[i], rec_log[i] = prk(combo, k)\n",
        "  if k == 0.1:\n",
        "    print('precision @ k = {}'.format(pre_log[i]))\n",
        "\n",
        "# f, axs = plt.subplots(1,2,figsize=(15,5))\n",
        "# axs1 = axs[0]\n",
        "f, axs1 = plt.subplots()\n",
        "axs2 = axs1.twinx()\n",
        "axs1.plot(grid, pre_log, 'b', label = 'Precision')\n",
        "axs2.plot(grid, rec_log, 'r', label = 'Recall')\n",
        "axs1.set_ylabel('Precision', color = 'b')\n",
        "axs1.set_ylim(-0.05,1.05)\n",
        "axs2.set_ylabel('Recall', color = 'r')\n",
        "axs2.set_ylim(-0.05,1.05)\n",
        "axs1.set_xlabel('k: Percent of projects identified as 1: not fully funded')\n",
        "plt.show()"
      ],
      "execution_count": null,
      "outputs": [
        {
          "name": "stderr",
          "output_type": "stream",
          "text": [
            "/home/mingkaid/miniconda3/envs/10718/lib/python3.7/site-packages/sklearn/base.py:439: UserWarning: X has feature names, but RandomForestClassifier was fitted without feature names\n",
            "  f\"X has feature names, but {self.__class__.__name__} was fitted without\"\n"
          ]
        },
        {
          "name": "stdout",
          "output_type": "stream",
          "text": [
            "train_auc_score = 0.99999, validation_auc_score = 0.81318\n",
            "precision @ k = 0.8054363376251789\n"
          ]
        },
        {
          "data": {
            "image/png": "[encoded data removed]",
            "text/plain": [
              "<Figure size 432x288 with 2 Axes>"
            ]
          },
          "metadata": {
            "needs_background": "light"
          },
          "output_type": "display_data"
        }
      ]
    },
    {
      "cell_type": "code",
      "metadata": {
        "id": "wF8lujeADl6c"
      },
      "source": [
        "get_fnr_by_group(data_test['poverty_level'], Y_test, y_score)"
      ],
      "execution_count": null,
      "outputs": []
    },
    {
      "cell_type": "code",
      "metadata": {
        "id": "fjLu6iR9Dl6d"
      },
      "source": [
        "data_test['low_poverty_level'] = data_test.poverty_level.apply(lambda x: 'low' if 'low' in x else 'not low')\n",
        "get_fnr_disparity(data_test['low_poverty_level'], 'low',\n",
        "                  Y_test, y_score)"
      ],
      "execution_count": null,
      "outputs": []
    },
    {
      "cell_type": "code",
      "metadata": {
        "id": "XrHhZO0cDl6d"
      },
      "source": [
        ""
      ],
      "execution_count": null,
      "outputs": []
    },
    {
      "cell_type": "markdown",
      "metadata": {
        "id": "I0lTVx2Iaqqq"
      },
      "source": [
        "**Undersampling followed by oversampling**"
      ]
    },
    {
      "cell_type": "code",
      "metadata": {
        "colab": {
          "base_uri": "https://localhost:8080/"
        },
        "id": "BPqMhx0satLy",
        "outputId": "43d28c07-eeb3-49f6-c777-23a23fcfcae0"
      },
      "source": [
        "under = RandomUnderSampler(sampling_strategy= 0.85)\n",
        "over = RandomOverSampler(sampling_strategy=1)\n",
        "pipeline = Pipeline(steps=[ ('u', under), ('o', over)])\n",
        "x_train_resampled, Y_train_resampled = pipeline.fit_resample(x_train.values, Y_train.values)\n",
        "print('after resampling: percentage of 1: not fully funded = {}'.format(np.sum(Y_train_resampled) / np.size(Y_train_resampled)))"
      ],
      "execution_count": null,
      "outputs": [
        {
          "name": "stdout",
          "output_type": "stream",
          "text": [
            "after resampling: percentage of 1: not fully funded = 0.5\n"
          ]
        }
      ]
    },
    {
      "cell_type": "code",
      "metadata": {
        "colab": {
          "base_uri": "https://localhost:8080/",
          "height": 313
        },
        "id": "W8KZSu2na4Hg",
        "outputId": "f9b752ed-93a3-451b-ee4b-9642c31021bf"
      },
      "source": [
        "from sklearn.ensemble import RandomForestClassifier\n",
        "\n",
        "from sklearn.metrics import roc_auc_score\n",
        "\n",
        "# read more about SGDClassifier() at http://scikit-learn.org/stable/modules/generated/sklearn.linear_model.SGDClassifier.html\n",
        "# \n",
        "train_auc = []\n",
        "cv_auc = []\n",
        "\n",
        "clf_rf = RandomForestClassifier(n_estimators = 500, min_samples_split=5, random_state=0)\n",
        "clf_rf.fit(x_train_resampled, Y_train_resampled)\n",
        "y_train_pred =  clf_rf.predict_proba(x_train_resampled)[:,1]\n",
        "y_test_pred =  clf_rf.predict_proba(x_test)[:,1]\n",
        "train_auc_score = roc_auc_score(Y_train_resampled,y_train_pred)\n",
        "train_auc.append((train_auc_score))\n",
        "cv_auc.append(roc_auc_score(Y_test, y_test_pred))\n",
        "print('c={:.5f}, train_auc_score = {:.5f}, validation_auc_score = {:.5f}'.format(i,train_auc_score,roc_auc_score(Y_test, y_test_pred)))\n",
        "\n",
        "y_score = pd.Series(y_test_pred)\n",
        "Y_test_np = Y_test.to_numpy()\n",
        "Y_test_pd = pd.Series(Y_test_np)\n",
        "combo = pd.concat([Y_test_pd, y_score], axis=1)\n",
        "combo.columns = ['fully_funded', 'pred']\n",
        "\n",
        "grid = np.arange(0,1.02,0.02)\n",
        "pre_log, rec_log = np.zeros_like(grid), np.zeros_like(grid)\n",
        "for i, k in enumerate(grid):\n",
        "  pre_log[i], rec_log[i] = prk(combo, k)\n",
        "  if k == 0.1:\n",
        "    print('precision @ k = {}'.format(pre_log[i]))\n",
        "\n",
        "# f, axs = plt.subplots(1,2,figsize=(15,5))\n",
        "# axs1 = axs[0]\n",
        "f, axs1 = plt.subplots()\n",
        "axs2 = axs1.twinx()\n",
        "axs1.plot(grid, pre_log, 'b', label = 'Precision')\n",
        "axs2.plot(grid, rec_log, 'r', label = 'Recall')\n",
        "axs1.set_ylabel('Precision', color = 'b')\n",
        "axs1.set_ylim(-0.05,1.05)\n",
        "axs2.set_ylabel('Recall', color = 'r')\n",
        "axs2.set_ylim(-0.05,1.05)\n",
        "axs1.set_xlabel('k: Percent of projects identified as 1: not fully funded')\n",
        "plt.show()"
      ],
      "execution_count": null,
      "outputs": [
        {
          "name": "stderr",
          "output_type": "stream",
          "text": [
            "/home/mingkaid/miniconda3/envs/10718/lib/python3.7/site-packages/sklearn/base.py:439: UserWarning: X has feature names, but RandomForestClassifier was fitted without feature names\n",
            "  f\"X has feature names, but {self.__class__.__name__} was fitted without\"\n"
          ]
        },
        {
          "name": "stdout",
          "output_type": "stream",
          "text": [
            "c=50.00000, train_auc_score = 0.99999, validation_auc_score = 0.81396\n",
            "precision @ k = 0.8140200286123033\n"
          ]
        },
        {
          "data": {
            "image/png": "[encoded data removed]",
            "text/plain": [
              "<Figure size 432x288 with 2 Axes>"
            ]
          },
          "metadata": {
            "needs_background": "light"
          },
          "output_type": "display_data"
        }
      ]
    },
    {
      "cell_type": "code",
      "metadata": {
        "id": "xhLdrHJRDl6e"
      },
      "source": [
        ""
      ],
      "execution_count": null,
      "outputs": []
    },
    {
      "cell_type": "code",
      "metadata": {
        "id": "w_5s68StDl6e"
      },
      "source": [
        ""
      ],
      "execution_count": null,
      "outputs": []
    },
    {
      "cell_type": "markdown",
      "metadata": {
        "id": "Hl1PhagUbFze"
      },
      "source": [
        "**Undersampling only**"
      ]
    },
    {
      "cell_type": "code",
      "metadata": {
        "colab": {
          "base_uri": "https://localhost:8080/"
        },
        "id": "Q0lYuUEoa_be",
        "outputId": "df2a1085-4598-4139-cb26-083dc94ad03b"
      },
      "source": [
        "under = RandomUnderSampler(sampling_strategy= 1.0)\n",
        "clf_rf = RandomForestClassifier(n_estimators = 500, min_samples_split=5, random_state=0)\n",
        "pipeline = Pipeline(steps=[ ('u', under)])\n",
        "x_train_resampled, Y_train_resampled = pipeline.fit_resample(x_train.values, Y_train.values)\n",
        "print('after resampling: percentage of 1: not fully funded = {}'.format(np.sum(Y_train_resampled) / np.size(Y_train_resampled)))"
      ],
      "execution_count": null,
      "outputs": [
        {
          "name": "stdout",
          "output_type": "stream",
          "text": [
            "after resampling: percentage of 1: not fully funded = 0.5\n"
          ]
        },
        {
          "name": "stderr",
          "output_type": "stream",
          "text": [
            "/usr/local/lib/python3.7/dist-packages/sklearn/utils/deprecation.py:87: FutureWarning:\n",
            "\n",
            "Function safe_indexing is deprecated; safe_indexing is deprecated in version 0.22 and will be removed in version 0.24.\n",
            "\n"
          ]
        }
      ]
    },
    {
      "cell_type": "code",
      "metadata": {
        "colab": {
          "base_uri": "https://localhost:8080/",
          "height": 313
        },
        "id": "PLIx1RVlbT2S",
        "outputId": "259582cb-ae41-4492-e70d-c45aef31b641"
      },
      "source": [
        "from sklearn.ensemble import RandomForestClassifier\n",
        "\n",
        "from sklearn.metrics import roc_auc_score\n",
        "\n",
        "# read more about SGDClassifier() at http://scikit-learn.org/stable/modules/generated/sklearn.linear_model.SGDClassifier.html\n",
        "# \n",
        "train_auc = []\n",
        "cv_auc = []\n",
        "\n",
        "clf_rf = RandomForestClassifier(n_estimators = 500, min_samples_split=5, random_state=0)\n",
        "clf_rf.fit(x_train_resampled, Y_train_resampled)\n",
        "y_train_pred =  clf_rf.predict_proba(x_train_resampled)[:,1]\n",
        "y_test_pred =  clf_rf.predict_proba(x_test)[:,1]\n",
        "train_auc_score = roc_auc_score(Y_train_resampled,y_train_pred)\n",
        "train_auc.append((train_auc_score))\n",
        "cv_auc.append(roc_auc_score(Y_test, y_test_pred))\n",
        "print('train_auc_score = {:.5f}, validation_auc_score = {:.5f}'.format(train_auc_score,roc_auc_score(Y_test, y_test_pred)))\n",
        "\n",
        "y_score = pd.Series(y_test_pred)\n",
        "Y_test_np = Y_test.to_numpy()\n",
        "Y_test_pd = pd.Series(Y_test_np)\n",
        "combo = pd.concat([Y_test_pd, y_score], axis=1)\n",
        "combo.columns = ['fully_funded', 'pred']\n",
        "\n",
        "grid = np.arange(0,1.02,0.02)\n",
        "pre_log, rec_log = np.zeros_like(grid), np.zeros_like(grid)\n",
        "for i, k in enumerate(grid):\n",
        "  pre_log[i], rec_log[i] = prk(combo, k)\n",
        "  if k == 0.1:\n",
        "    print('precision @ k = {}'.format(pre_log[i]))\n",
        "\n",
        "# f, axs = plt.subplots(1,2,figsize=(15,5))\n",
        "# axs1 = axs[0]\n",
        "f, axs1 = plt.subplots()\n",
        "axs2 = axs1.twinx()\n",
        "axs1.plot(grid, pre_log, 'b', label = 'Precision')\n",
        "axs2.plot(grid, rec_log, 'r', label = 'Recall')\n",
        "axs1.set_ylabel('Precision', color = 'b')\n",
        "axs1.set_ylim(-0.05,1.05)\n",
        "axs2.set_ylabel('Recall', color = 'r')\n",
        "axs2.set_ylim(-0.05,1.05)\n",
        "axs1.set_xlabel('k: Percent of projects identified as 1: not fully funded')\n",
        "plt.show()"
      ],
      "execution_count": null,
      "outputs": [
        {
          "name": "stdout",
          "output_type": "stream",
          "text": [
            "c=50.00000, train_auc_score = 0.99998, validation_auc_score = 0.81226\n",
            "precision @ k = 0.7939914163090128\n"
          ]
        },
        {
          "data": {
            "image/png": "[encoded data removed]",
            "text/plain": [
              "<Figure size 432x288 with 2 Axes>"
            ]
          },
          "metadata": {
            "needs_background": "light"
          },
          "output_type": "display_data"
        }
      ]
    },
    {
      "cell_type": "markdown",
      "metadata": {
        "id": "L2Ag34j8bILp"
      },
      "source": [
        "Oversampling only"
      ]
    },
    {
      "cell_type": "code",
      "metadata": {
        "colab": {
          "base_uri": "https://localhost:8080/"
        },
        "id": "5gGnGzgrbKgO",
        "outputId": "574b1c61-4eb9-4b38-f653-1766fd81f609"
      },
      "source": [
        "over = RandomOverSampler(sampling_strategy=1.0)\n",
        "clf_rf = RandomForestClassifier(n_estimators = 500, min_samples_split=5, random_state=0)\n",
        "pipeline = Pipeline(steps=[ ('u', under), ('o', over)])\n",
        "x_train_resampled, Y_train_resampled = pipeline.fit_resample(x_train.values, Y_train.values)\n",
        "print('after resampling: percentage of 1: not fully funded = {}'.format(np.sum(Y_train_resampled) / np.size(Y_train_resampled)))"
      ],
      "execution_count": null,
      "outputs": [
        {
          "name": "stdout",
          "output_type": "stream",
          "text": [
            "after resampling: percentage of 1: not fully funded = 0.5\n"
          ]
        },
        {
          "name": "stderr",
          "output_type": "stream",
          "text": [
            "/usr/local/lib/python3.7/dist-packages/sklearn/utils/deprecation.py:87: FutureWarning:\n",
            "\n",
            "Function safe_indexing is deprecated; safe_indexing is deprecated in version 0.22 and will be removed in version 0.24.\n",
            "\n",
            "/usr/local/lib/python3.7/dist-packages/sklearn/utils/deprecation.py:87: FutureWarning:\n",
            "\n",
            "Function safe_indexing is deprecated; safe_indexing is deprecated in version 0.22 and will be removed in version 0.24.\n",
            "\n"
          ]
        }
      ]
    },
    {
      "cell_type": "code",
      "metadata": {
        "colab": {
          "base_uri": "https://localhost:8080/",
          "height": 313
        },
        "id": "ydGHoPdUbYfe",
        "outputId": "58185be5-d3bd-47bf-8e21-e65fc7f67138"
      },
      "source": [
        "from sklearn.ensemble import RandomForestClassifier\n",
        "\n",
        "from sklearn.metrics import roc_auc_score\n",
        "\n",
        "# read more about SGDClassifier() at http://scikit-learn.org/stable/modules/generated/sklearn.linear_model.SGDClassifier.html\n",
        "# \n",
        "train_auc = []\n",
        "cv_auc = []\n",
        "\n",
        "clf_rf = RandomForestClassifier(n_estimators = 500, min_samples_split=5, random_state=0)\n",
        "clf_rf.fit(x_train_resampled, Y_train_resampled)\n",
        "y_train_pred =  clf_rf.predict_proba(x_train_resampled)[:,1]\n",
        "y_test_pred =  clf_rf.predict_proba(x_test)[:,1]\n",
        "train_auc_score = roc_auc_score(Y_train_resampled,y_train_pred)\n",
        "train_auc.append((train_auc_score))\n",
        "cv_auc.append(roc_auc_score(Y_test, y_test_pred))\n",
        "print('train_auc_score = {:.5f}, validation_auc_score = {:.5f}'.format(train_auc_score,roc_auc_score(Y_test, y_test_pred)))\n",
        "\n",
        "y_score = pd.Series(y_test_pred)\n",
        "Y_test_np = Y_test.to_numpy()\n",
        "Y_test_pd = pd.Series(Y_test_np)\n",
        "combo = pd.concat([Y_test_pd, y_score], axis=1)\n",
        "combo.columns = ['fully_funded', 'pred']\n",
        "\n",
        "grid = np.arange(0,1.02,0.02)\n",
        "pre_log, rec_log = np.zeros_like(grid), np.zeros_like(grid)\n",
        "for i, k in enumerate(grid):\n",
        "  pre_log[i], rec_log[i] = prk(combo, k)\n",
        "  if k == 0.1:\n",
        "    print('precision @ k = {}'.format(pre_log[i]))\n",
        "\n",
        "# f, axs = plt.subplots(1,2,figsize=(15,5))\n",
        "# axs1 = axs[0]\n",
        "f, axs1 = plt.subplots()\n",
        "axs2 = axs1.twinx()\n",
        "axs1.plot(grid, pre_log, 'b', label = 'Precision')\n",
        "axs2.plot(grid, rec_log, 'r', label = 'Recall')\n",
        "axs1.set_ylabel('Precision', color = 'b')\n",
        "axs1.set_ylim(-0.05,1.05)\n",
        "axs2.set_ylabel('Recall', color = 'r')\n",
        "axs2.set_ylim(-0.05,1.05)\n",
        "axs1.set_xlabel('k: Percent of projects identified as 1: not fully funded')\n",
        "plt.show()"
      ],
      "execution_count": null,
      "outputs": [
        {
          "name": "stdout",
          "output_type": "stream",
          "text": [
            "c=50.00000, train_auc_score = 0.99998, validation_auc_score = 0.81252\n",
            "precision @ k = 0.8011444921316166\n"
          ]
        },
        {
          "data": {
            "image/png": "[encoded data removed]",
            "text/plain": [
              "<Figure size 432x288 with 2 Axes>"
            ]
          },
          "metadata": {
            "needs_background": "light"
          },
          "output_type": "display_data"
        }
      ]
    },
    {
      "cell_type": "code",
      "metadata": {
        "id": "7UVgiXQdjK5K"
      },
      "source": [
        ""
      ],
      "execution_count": null,
      "outputs": []
    }
  ]
}